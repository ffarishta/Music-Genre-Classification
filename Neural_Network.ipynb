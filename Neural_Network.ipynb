{
 "cells": [
  {
   "cell_type": "markdown",
   "metadata": {},
   "source": [
    "# Music Genre Classification with Neural Networks"
   ]
  },
  {
   "cell_type": "markdown",
   "metadata": {},
   "source": [
    "We will explore the following:\n",
    "    1. Preprocessing \n",
    "    2. Baseline Model\n",
    "    3. Model Evaluation \n",
    "    4. Finetuning Model\n",
    "        a) L1 and L2 Regularization \n",
    "        b) Drop-out Regularization"
   ]
  },
  {
   "cell_type": "markdown",
   "metadata": {},
   "source": [
    "## 1. Preprocessing "
   ]
  },
  {
   "cell_type": "code",
   "execution_count": 70,
   "metadata": {},
   "outputs": [],
   "source": [
    "# import all necessary libraries\n",
    "import pandas as pd \n",
    "import numpy as np \n",
    "import matplotlib.pyplot as plt\n",
    "from tensorflow import keras\n",
    "from sklearn.preprocessing import OneHotEncoder\n",
    "from sklearn import preprocessing\n",
    "from sklearn.preprocessing import StandardScaler\n",
    "from sklearn.model_selection import train_test_split\n",
    "from sklearn.metrics import accuracy_score,precision_score,recall_score, f1_score"
   ]
  },
  {
   "cell_type": "code",
   "execution_count": 71,
   "metadata": {},
   "outputs": [
    {
     "data": {
      "text/html": [
       "<div>\n",
       "<style scoped>\n",
       "    .dataframe tbody tr th:only-of-type {\n",
       "        vertical-align: middle;\n",
       "    }\n",
       "\n",
       "    .dataframe tbody tr th {\n",
       "        vertical-align: top;\n",
       "    }\n",
       "\n",
       "    .dataframe thead th {\n",
       "        text-align: right;\n",
       "    }\n",
       "</style>\n",
       "<table border=\"1\" class=\"dataframe\">\n",
       "  <thead>\n",
       "    <tr style=\"text-align: right;\">\n",
       "      <th></th>\n",
       "      <th>chroma_stft_mean</th>\n",
       "      <th>chroma_stft_var</th>\n",
       "      <th>rms_mean</th>\n",
       "      <th>rms_var</th>\n",
       "      <th>spectral_centroid_mean</th>\n",
       "      <th>spectral_centroid_var</th>\n",
       "      <th>spectral_bandwidth_mean</th>\n",
       "      <th>spectral_bandwidth_var</th>\n",
       "      <th>rolloff_mean</th>\n",
       "      <th>rolloff_var</th>\n",
       "      <th>...</th>\n",
       "      <th>mfcc16_var</th>\n",
       "      <th>mfcc17_mean</th>\n",
       "      <th>mfcc17_var</th>\n",
       "      <th>mfcc18_mean</th>\n",
       "      <th>mfcc18_var</th>\n",
       "      <th>mfcc19_mean</th>\n",
       "      <th>mfcc19_var</th>\n",
       "      <th>mfcc20_mean</th>\n",
       "      <th>mfcc20_var</th>\n",
       "      <th>label</th>\n",
       "    </tr>\n",
       "  </thead>\n",
       "  <tbody>\n",
       "    <tr>\n",
       "      <th>0</th>\n",
       "      <td>0.335406</td>\n",
       "      <td>0.091048</td>\n",
       "      <td>0.130405</td>\n",
       "      <td>0.003521</td>\n",
       "      <td>1773.065032</td>\n",
       "      <td>167541.630869</td>\n",
       "      <td>1972.744388</td>\n",
       "      <td>117335.771563</td>\n",
       "      <td>3714.560359</td>\n",
       "      <td>1.080790e+06</td>\n",
       "      <td>...</td>\n",
       "      <td>39.687145</td>\n",
       "      <td>-3.241280</td>\n",
       "      <td>36.488243</td>\n",
       "      <td>0.722209</td>\n",
       "      <td>38.099152</td>\n",
       "      <td>-5.050335</td>\n",
       "      <td>33.618073</td>\n",
       "      <td>-0.243027</td>\n",
       "      <td>43.771767</td>\n",
       "      <td>blues</td>\n",
       "    </tr>\n",
       "    <tr>\n",
       "      <th>1</th>\n",
       "      <td>0.343065</td>\n",
       "      <td>0.086147</td>\n",
       "      <td>0.112699</td>\n",
       "      <td>0.001450</td>\n",
       "      <td>1816.693777</td>\n",
       "      <td>90525.690866</td>\n",
       "      <td>2010.051501</td>\n",
       "      <td>65671.875673</td>\n",
       "      <td>3869.682242</td>\n",
       "      <td>6.722448e+05</td>\n",
       "      <td>...</td>\n",
       "      <td>64.748276</td>\n",
       "      <td>-6.055294</td>\n",
       "      <td>40.677654</td>\n",
       "      <td>0.159015</td>\n",
       "      <td>51.264091</td>\n",
       "      <td>-2.837699</td>\n",
       "      <td>97.030830</td>\n",
       "      <td>5.784063</td>\n",
       "      <td>59.943081</td>\n",
       "      <td>blues</td>\n",
       "    </tr>\n",
       "    <tr>\n",
       "      <th>2</th>\n",
       "      <td>0.346815</td>\n",
       "      <td>0.092243</td>\n",
       "      <td>0.132003</td>\n",
       "      <td>0.004620</td>\n",
       "      <td>1788.539719</td>\n",
       "      <td>111407.437613</td>\n",
       "      <td>2084.565132</td>\n",
       "      <td>75124.921716</td>\n",
       "      <td>3997.639160</td>\n",
       "      <td>7.907127e+05</td>\n",
       "      <td>...</td>\n",
       "      <td>67.336563</td>\n",
       "      <td>-1.768610</td>\n",
       "      <td>28.348579</td>\n",
       "      <td>2.378768</td>\n",
       "      <td>45.717648</td>\n",
       "      <td>-1.938424</td>\n",
       "      <td>53.050835</td>\n",
       "      <td>2.517375</td>\n",
       "      <td>33.105122</td>\n",
       "      <td>blues</td>\n",
       "    </tr>\n",
       "    <tr>\n",
       "      <th>3</th>\n",
       "      <td>0.363639</td>\n",
       "      <td>0.086856</td>\n",
       "      <td>0.132565</td>\n",
       "      <td>0.002448</td>\n",
       "      <td>1655.289045</td>\n",
       "      <td>111952.284517</td>\n",
       "      <td>1960.039988</td>\n",
       "      <td>82913.639269</td>\n",
       "      <td>3568.300218</td>\n",
       "      <td>9.216524e+05</td>\n",
       "      <td>...</td>\n",
       "      <td>47.739452</td>\n",
       "      <td>-3.841155</td>\n",
       "      <td>28.337118</td>\n",
       "      <td>1.218588</td>\n",
       "      <td>34.770935</td>\n",
       "      <td>-3.580352</td>\n",
       "      <td>50.836224</td>\n",
       "      <td>3.630866</td>\n",
       "      <td>32.023678</td>\n",
       "      <td>blues</td>\n",
       "    </tr>\n",
       "    <tr>\n",
       "      <th>4</th>\n",
       "      <td>0.335579</td>\n",
       "      <td>0.088129</td>\n",
       "      <td>0.143289</td>\n",
       "      <td>0.001701</td>\n",
       "      <td>1630.656199</td>\n",
       "      <td>79667.267654</td>\n",
       "      <td>1948.503884</td>\n",
       "      <td>60204.020268</td>\n",
       "      <td>3469.992864</td>\n",
       "      <td>6.102111e+05</td>\n",
       "      <td>...</td>\n",
       "      <td>30.336359</td>\n",
       "      <td>0.664582</td>\n",
       "      <td>45.880913</td>\n",
       "      <td>1.689446</td>\n",
       "      <td>51.363583</td>\n",
       "      <td>-3.392489</td>\n",
       "      <td>26.738789</td>\n",
       "      <td>0.536961</td>\n",
       "      <td>29.146694</td>\n",
       "      <td>blues</td>\n",
       "    </tr>\n",
       "  </tbody>\n",
       "</table>\n",
       "<p>5 rows × 58 columns</p>\n",
       "</div>"
      ],
      "text/plain": [
       "   chroma_stft_mean  chroma_stft_var  rms_mean   rms_var  \\\n",
       "0          0.335406         0.091048  0.130405  0.003521   \n",
       "1          0.343065         0.086147  0.112699  0.001450   \n",
       "2          0.346815         0.092243  0.132003  0.004620   \n",
       "3          0.363639         0.086856  0.132565  0.002448   \n",
       "4          0.335579         0.088129  0.143289  0.001701   \n",
       "\n",
       "   spectral_centroid_mean  spectral_centroid_var  spectral_bandwidth_mean  \\\n",
       "0             1773.065032          167541.630869              1972.744388   \n",
       "1             1816.693777           90525.690866              2010.051501   \n",
       "2             1788.539719          111407.437613              2084.565132   \n",
       "3             1655.289045          111952.284517              1960.039988   \n",
       "4             1630.656199           79667.267654              1948.503884   \n",
       "\n",
       "   spectral_bandwidth_var  rolloff_mean   rolloff_var  ...  mfcc16_var  \\\n",
       "0           117335.771563   3714.560359  1.080790e+06  ...   39.687145   \n",
       "1            65671.875673   3869.682242  6.722448e+05  ...   64.748276   \n",
       "2            75124.921716   3997.639160  7.907127e+05  ...   67.336563   \n",
       "3            82913.639269   3568.300218  9.216524e+05  ...   47.739452   \n",
       "4            60204.020268   3469.992864  6.102111e+05  ...   30.336359   \n",
       "\n",
       "   mfcc17_mean  mfcc17_var  mfcc18_mean  mfcc18_var  mfcc19_mean  mfcc19_var  \\\n",
       "0    -3.241280   36.488243     0.722209   38.099152    -5.050335   33.618073   \n",
       "1    -6.055294   40.677654     0.159015   51.264091    -2.837699   97.030830   \n",
       "2    -1.768610   28.348579     2.378768   45.717648    -1.938424   53.050835   \n",
       "3    -3.841155   28.337118     1.218588   34.770935    -3.580352   50.836224   \n",
       "4     0.664582   45.880913     1.689446   51.363583    -3.392489   26.738789   \n",
       "\n",
       "   mfcc20_mean  mfcc20_var  label  \n",
       "0    -0.243027   43.771767  blues  \n",
       "1     5.784063   59.943081  blues  \n",
       "2     2.517375   33.105122  blues  \n",
       "3     3.630866   32.023678  blues  \n",
       "4     0.536961   29.146694  blues  \n",
       "\n",
       "[5 rows x 58 columns]"
      ]
     },
     "execution_count": 71,
     "metadata": {},
     "output_type": "execute_result"
    }
   ],
   "source": [
    "# load the 3-second variation of the dataset and create a pandas dataframe\n",
    "path_3_sec = ('../Data/features_3_sec.csv')\n",
    "path_30_sec = ('../Data/features_3_sec.csv')\n",
    "df = pd.read_csv(path)\n",
    "df = df.drop(['filename','length'], axis=1)\n",
    "\n",
    "df.head()"
   ]
  },
  {
   "cell_type": "code",
   "execution_count": 72,
   "metadata": {},
   "outputs": [
    {
     "data": {
      "text/plain": [
       "array(['blues', 'classical', 'country', 'disco', 'hiphop', 'jazz',\n",
       "       'metal', 'pop', 'reggae', 'rock'], dtype=object)"
      ]
     },
     "execution_count": 72,
     "metadata": {},
     "output_type": "execute_result"
    }
   ],
   "source": [
    "#Before Applying one hot encoding, store the original labels\n",
    "y_original = df[\"label\"]\n",
    "unique_labels = y_original.unique()\n",
    "unique_labels"
   ]
  },
  {
   "cell_type": "code",
   "execution_count": 73,
   "metadata": {},
   "outputs": [
    {
     "data": {
      "text/plain": [
       "array([[1., 0., 0., ..., 0., 0., 0.],\n",
       "       [1., 0., 0., ..., 0., 0., 0.],\n",
       "       [1., 0., 0., ..., 0., 0., 0.],\n",
       "       ...,\n",
       "       [0., 0., 0., ..., 0., 0., 1.],\n",
       "       [0., 0., 0., ..., 0., 0., 1.],\n",
       "       [0., 0., 0., ..., 0., 0., 1.]])"
      ]
     },
     "execution_count": 73,
     "metadata": {},
     "output_type": "execute_result"
    }
   ],
   "source": [
    "#Apply one-hot encoding to labels \n",
    "enc = OneHotEncoder(sparse=False)\n",
    "y = enc.fit_transform(df[[\"label\"]])\n",
    "y"
   ]
  },
  {
   "cell_type": "code",
   "execution_count": 74,
   "metadata": {},
   "outputs": [
    {
     "data": {
      "text/html": [
       "<div>\n",
       "<style scoped>\n",
       "    .dataframe tbody tr th:only-of-type {\n",
       "        vertical-align: middle;\n",
       "    }\n",
       "\n",
       "    .dataframe tbody tr th {\n",
       "        vertical-align: top;\n",
       "    }\n",
       "\n",
       "    .dataframe thead th {\n",
       "        text-align: right;\n",
       "    }\n",
       "</style>\n",
       "<table border=\"1\" class=\"dataframe\">\n",
       "  <thead>\n",
       "    <tr style=\"text-align: right;\">\n",
       "      <th></th>\n",
       "      <th>chroma_stft_mean</th>\n",
       "      <th>chroma_stft_var</th>\n",
       "      <th>rms_mean</th>\n",
       "      <th>rms_var</th>\n",
       "      <th>spectral_centroid_mean</th>\n",
       "      <th>spectral_centroid_var</th>\n",
       "      <th>spectral_bandwidth_mean</th>\n",
       "      <th>spectral_bandwidth_var</th>\n",
       "      <th>rolloff_mean</th>\n",
       "      <th>rolloff_var</th>\n",
       "      <th>...</th>\n",
       "      <th>mfcc16_var</th>\n",
       "      <th>mfcc17_mean</th>\n",
       "      <th>mfcc17_var</th>\n",
       "      <th>mfcc18_mean</th>\n",
       "      <th>mfcc18_var</th>\n",
       "      <th>mfcc19_mean</th>\n",
       "      <th>mfcc19_var</th>\n",
       "      <th>mfcc20_mean</th>\n",
       "      <th>mfcc20_var</th>\n",
       "      <th>label</th>\n",
       "    </tr>\n",
       "  </thead>\n",
       "  <tbody>\n",
       "    <tr>\n",
       "      <th>0</th>\n",
       "      <td>0.355399</td>\n",
       "      <td>0.716757</td>\n",
       "      <td>0.293133</td>\n",
       "      <td>0.107955</td>\n",
       "      <td>0.262173</td>\n",
       "      <td>0.034784</td>\n",
       "      <td>0.459205</td>\n",
       "      <td>0.094130</td>\n",
       "      <td>0.346153</td>\n",
       "      <td>0.083164</td>\n",
       "      <td>...</td>\n",
       "      <td>0.056198</td>\n",
       "      <td>0.397172</td>\n",
       "      <td>0.066062</td>\n",
       "      <td>0.371828</td>\n",
       "      <td>0.055344</td>\n",
       "      <td>0.380831</td>\n",
       "      <td>0.026797</td>\n",
       "      <td>0.506746</td>\n",
       "      <td>0.047781</td>\n",
       "      <td>blues</td>\n",
       "    </tr>\n",
       "    <tr>\n",
       "      <th>1</th>\n",
       "      <td>0.367322</td>\n",
       "      <td>0.670347</td>\n",
       "      <td>0.253040</td>\n",
       "      <td>0.044447</td>\n",
       "      <td>0.270969</td>\n",
       "      <td>0.018716</td>\n",
       "      <td>0.470831</td>\n",
       "      <td>0.052261</td>\n",
       "      <td>0.363722</td>\n",
       "      <td>0.051694</td>\n",
       "      <td>...</td>\n",
       "      <td>0.092912</td>\n",
       "      <td>0.351681</td>\n",
       "      <td>0.074001</td>\n",
       "      <td>0.362068</td>\n",
       "      <td>0.076365</td>\n",
       "      <td>0.418452</td>\n",
       "      <td>0.082414</td>\n",
       "      <td>0.593029</td>\n",
       "      <td>0.065548</td>\n",
       "      <td>blues</td>\n",
       "    </tr>\n",
       "    <tr>\n",
       "      <th>2</th>\n",
       "      <td>0.373159</td>\n",
       "      <td>0.728067</td>\n",
       "      <td>0.296753</td>\n",
       "      <td>0.141663</td>\n",
       "      <td>0.265293</td>\n",
       "      <td>0.023073</td>\n",
       "      <td>0.494051</td>\n",
       "      <td>0.059922</td>\n",
       "      <td>0.378215</td>\n",
       "      <td>0.060820</td>\n",
       "      <td>...</td>\n",
       "      <td>0.096704</td>\n",
       "      <td>0.420979</td>\n",
       "      <td>0.050639</td>\n",
       "      <td>0.400536</td>\n",
       "      <td>0.067509</td>\n",
       "      <td>0.433742</td>\n",
       "      <td>0.043841</td>\n",
       "      <td>0.546264</td>\n",
       "      <td>0.036062</td>\n",
       "      <td>blues</td>\n",
       "    </tr>\n",
       "    <tr>\n",
       "      <th>3</th>\n",
       "      <td>0.399349</td>\n",
       "      <td>0.677066</td>\n",
       "      <td>0.298024</td>\n",
       "      <td>0.075042</td>\n",
       "      <td>0.238427</td>\n",
       "      <td>0.023187</td>\n",
       "      <td>0.455246</td>\n",
       "      <td>0.066234</td>\n",
       "      <td>0.329587</td>\n",
       "      <td>0.070906</td>\n",
       "      <td>...</td>\n",
       "      <td>0.067995</td>\n",
       "      <td>0.387474</td>\n",
       "      <td>0.050617</td>\n",
       "      <td>0.380430</td>\n",
       "      <td>0.050030</td>\n",
       "      <td>0.405824</td>\n",
       "      <td>0.041898</td>\n",
       "      <td>0.562204</td>\n",
       "      <td>0.034873</td>\n",
       "      <td>blues</td>\n",
       "    </tr>\n",
       "    <tr>\n",
       "      <th>4</th>\n",
       "      <td>0.355668</td>\n",
       "      <td>0.689113</td>\n",
       "      <td>0.322308</td>\n",
       "      <td>0.052149</td>\n",
       "      <td>0.233460</td>\n",
       "      <td>0.016451</td>\n",
       "      <td>0.451651</td>\n",
       "      <td>0.047830</td>\n",
       "      <td>0.318453</td>\n",
       "      <td>0.046916</td>\n",
       "      <td>...</td>\n",
       "      <td>0.042500</td>\n",
       "      <td>0.460314</td>\n",
       "      <td>0.083860</td>\n",
       "      <td>0.388590</td>\n",
       "      <td>0.076524</td>\n",
       "      <td>0.409019</td>\n",
       "      <td>0.020763</td>\n",
       "      <td>0.517913</td>\n",
       "      <td>0.031713</td>\n",
       "      <td>blues</td>\n",
       "    </tr>\n",
       "  </tbody>\n",
       "</table>\n",
       "<p>5 rows × 58 columns</p>\n",
       "</div>"
      ],
      "text/plain": [
       "   chroma_stft_mean  chroma_stft_var  rms_mean   rms_var  \\\n",
       "0          0.355399         0.716757  0.293133  0.107955   \n",
       "1          0.367322         0.670347  0.253040  0.044447   \n",
       "2          0.373159         0.728067  0.296753  0.141663   \n",
       "3          0.399349         0.677066  0.298024  0.075042   \n",
       "4          0.355668         0.689113  0.322308  0.052149   \n",
       "\n",
       "   spectral_centroid_mean  spectral_centroid_var  spectral_bandwidth_mean  \\\n",
       "0                0.262173               0.034784                 0.459205   \n",
       "1                0.270969               0.018716                 0.470831   \n",
       "2                0.265293               0.023073                 0.494051   \n",
       "3                0.238427               0.023187                 0.455246   \n",
       "4                0.233460               0.016451                 0.451651   \n",
       "\n",
       "   spectral_bandwidth_var  rolloff_mean  rolloff_var  ...  mfcc16_var  \\\n",
       "0                0.094130      0.346153     0.083164  ...    0.056198   \n",
       "1                0.052261      0.363722     0.051694  ...    0.092912   \n",
       "2                0.059922      0.378215     0.060820  ...    0.096704   \n",
       "3                0.066234      0.329587     0.070906  ...    0.067995   \n",
       "4                0.047830      0.318453     0.046916  ...    0.042500   \n",
       "\n",
       "   mfcc17_mean  mfcc17_var  mfcc18_mean  mfcc18_var  mfcc19_mean  mfcc19_var  \\\n",
       "0     0.397172    0.066062     0.371828    0.055344     0.380831    0.026797   \n",
       "1     0.351681    0.074001     0.362068    0.076365     0.418452    0.082414   \n",
       "2     0.420979    0.050639     0.400536    0.067509     0.433742    0.043841   \n",
       "3     0.387474    0.050617     0.380430    0.050030     0.405824    0.041898   \n",
       "4     0.460314    0.083860     0.388590    0.076524     0.409019    0.020763   \n",
       "\n",
       "   mfcc20_mean  mfcc20_var  label  \n",
       "0     0.506746    0.047781  blues  \n",
       "1     0.593029    0.065548  blues  \n",
       "2     0.546264    0.036062  blues  \n",
       "3     0.562204    0.034873  blues  \n",
       "4     0.517913    0.031713  blues  \n",
       "\n",
       "[5 rows x 58 columns]"
      ]
     },
     "execution_count": 74,
     "metadata": {},
     "output_type": "execute_result"
    }
   ],
   "source": [
    "# apply min max scalar to scale values from 1-10\n",
    "minmaxscalar = preprocessing.MinMaxScaler()\n",
    "df.loc[:, df.columns != 'label'] = minmaxscalar.fit_transform(df.loc[:, df.columns != 'label'])\n",
    "\n",
    "df.head()"
   ]
  },
  {
   "cell_type": "code",
   "execution_count": 75,
   "metadata": {},
   "outputs": [
    {
     "name": "stdout",
     "output_type": "stream",
     "text": [
      "(2007, 57) (2007, 10)\n"
     ]
    }
   ],
   "source": [
    "#split data into 70:10:20 % for training, validation, and testing \n",
    "\n",
    "x,y = (df.iloc[:,df.columns != \"label\"],y)\n",
    "X_train, X_test, y_train, y_test = train_test_split(x, y,test_size=0.30)\n",
    "X_test, X_valid, y_test, y_valid = train_test_split(X_test, y_test,test_size=0.33)\n",
    "\n",
    "print(X_test.shape,y_test.shape)"
   ]
  },
  {
   "cell_type": "markdown",
   "metadata": {},
   "source": [
    "##  Baseline Model"
   ]
  },
  {
   "cell_type": "code",
   "execution_count": 76,
   "metadata": {},
   "outputs": [
    {
     "name": "stdout",
     "output_type": "stream",
     "text": [
      "Epoch 1/50\n",
      "219/219 [==============================] - 3s 8ms/step - loss: 1.7637 - accuracy: 0.3372 - val_loss: 1.3364 - val_accuracy: 0.4758\n",
      "Epoch 2/50\n",
      "219/219 [==============================] - 1s 7ms/step - loss: 1.2883 - accuracy: 0.5198 - val_loss: 1.1835 - val_accuracy: 0.5485\n",
      "Epoch 3/50\n",
      "219/219 [==============================] - 1s 7ms/step - loss: 1.1602 - accuracy: 0.5709 - val_loss: 1.0437 - val_accuracy: 0.6162\n",
      "Epoch 4/50\n",
      "219/219 [==============================] - 1s 6ms/step - loss: 1.0530 - accuracy: 0.6135 - val_loss: 0.9470 - val_accuracy: 0.6677\n",
      "Epoch 5/50\n",
      "219/219 [==============================] - 2s 8ms/step - loss: 0.9700 - accuracy: 0.6454 - val_loss: 0.9265 - val_accuracy: 0.6576\n",
      "Epoch 6/50\n",
      "219/219 [==============================] - 1s 4ms/step - loss: 0.9329 - accuracy: 0.6657 - val_loss: 0.8737 - val_accuracy: 0.6838\n",
      "Epoch 7/50\n",
      "219/219 [==============================] - 1s 5ms/step - loss: 0.8551 - accuracy: 0.6908 - val_loss: 0.9140 - val_accuracy: 0.6606\n",
      "Epoch 8/50\n",
      "219/219 [==============================] - 2s 8ms/step - loss: 0.8388 - accuracy: 0.6966 - val_loss: 0.8765 - val_accuracy: 0.6909\n",
      "Epoch 9/50\n",
      "219/219 [==============================] - 1s 5ms/step - loss: 0.7915 - accuracy: 0.7160 - val_loss: 0.7735 - val_accuracy: 0.7333\n",
      "Epoch 10/50\n",
      "219/219 [==============================] - ETA: 0s - loss: 0.7471 - accuracy: 0.72 - 1s 6ms/step - loss: 0.7502 - accuracy: 0.7266 - val_loss: 0.7562 - val_accuracy: 0.7424\n",
      "Epoch 11/50\n",
      "219/219 [==============================] - 2s 7ms/step - loss: 0.7218 - accuracy: 0.7435 - val_loss: 0.7430 - val_accuracy: 0.7263\n",
      "Epoch 12/50\n",
      "219/219 [==============================] - 1s 5ms/step - loss: 0.7032 - accuracy: 0.7432 - val_loss: 0.7677 - val_accuracy: 0.7333\n",
      "Epoch 13/50\n",
      "219/219 [==============================] - 1s 4ms/step - loss: 0.6575 - accuracy: 0.7595 - val_loss: 0.6822 - val_accuracy: 0.7566\n",
      "Epoch 14/50\n",
      "219/219 [==============================] - 1s 5ms/step - loss: 0.6380 - accuracy: 0.7655 - val_loss: 0.7014 - val_accuracy: 0.7505\n",
      "Epoch 15/50\n",
      "219/219 [==============================] - 1s 5ms/step - loss: 0.6245 - accuracy: 0.7786 - val_loss: 0.6626 - val_accuracy: 0.7596\n",
      "Epoch 16/50\n",
      "219/219 [==============================] - 1s 5ms/step - loss: 0.6040 - accuracy: 0.7835 - val_loss: 0.6111 - val_accuracy: 0.7859\n",
      "Epoch 17/50\n",
      "219/219 [==============================] - 1s 5ms/step - loss: 0.5530 - accuracy: 0.8029 - val_loss: 0.5655 - val_accuracy: 0.8010\n",
      "Epoch 18/50\n",
      "219/219 [==============================] - 1s 5ms/step - loss: 0.5403 - accuracy: 0.8035 - val_loss: 0.6466 - val_accuracy: 0.7828\n",
      "Epoch 19/50\n",
      "219/219 [==============================] - 1s 5ms/step - loss: 0.5056 - accuracy: 0.8157 - val_loss: 0.6055 - val_accuracy: 0.7949\n",
      "Epoch 20/50\n",
      "219/219 [==============================] - 1s 5ms/step - loss: 0.4999 - accuracy: 0.8191 - val_loss: 0.5863 - val_accuracy: 0.8040\n",
      "Epoch 21/50\n",
      "219/219 [==============================] - 1s 5ms/step - loss: 0.4978 - accuracy: 0.8185 - val_loss: 0.5858 - val_accuracy: 0.7929\n",
      "Epoch 22/50\n",
      "219/219 [==============================] - 1s 5ms/step - loss: 0.4606 - accuracy: 0.8327 - val_loss: 0.5086 - val_accuracy: 0.8141\n",
      "Epoch 23/50\n",
      "219/219 [==============================] - 1s 5ms/step - loss: 0.4297 - accuracy: 0.8478 - val_loss: 0.4911 - val_accuracy: 0.8242\n",
      "Epoch 24/50\n",
      "219/219 [==============================] - 1s 5ms/step - loss: 0.4235 - accuracy: 0.8504 - val_loss: 0.5522 - val_accuracy: 0.8091\n",
      "Epoch 25/50\n",
      "219/219 [==============================] - 1s 5ms/step - loss: 0.4106 - accuracy: 0.8513 - val_loss: 0.4982 - val_accuracy: 0.8222\n",
      "Epoch 26/50\n",
      "219/219 [==============================] - 1s 4ms/step - loss: 0.3836 - accuracy: 0.8610 - val_loss: 0.5149 - val_accuracy: 0.8293\n",
      "Epoch 27/50\n",
      "219/219 [==============================] - 1s 4ms/step - loss: 0.3598 - accuracy: 0.8693 - val_loss: 0.5101 - val_accuracy: 0.8202\n",
      "Epoch 28/50\n",
      "219/219 [==============================] - 1s 5ms/step - loss: 0.3649 - accuracy: 0.8662 - val_loss: 0.5811 - val_accuracy: 0.7949\n",
      "Epoch 29/50\n",
      "219/219 [==============================] - 1s 4ms/step - loss: 0.3281 - accuracy: 0.8797 - val_loss: 0.4670 - val_accuracy: 0.8404\n",
      "Epoch 30/50\n",
      "219/219 [==============================] - 1s 4ms/step - loss: 0.3203 - accuracy: 0.8850 - val_loss: 0.5603 - val_accuracy: 0.8111\n",
      "Epoch 31/50\n",
      "219/219 [==============================] - 1s 5ms/step - loss: 0.3008 - accuracy: 0.8879 - val_loss: 0.4659 - val_accuracy: 0.8566\n",
      "Epoch 32/50\n",
      "219/219 [==============================] - 1s 5ms/step - loss: 0.2796 - accuracy: 0.8995 - val_loss: 0.4518 - val_accuracy: 0.8576\n",
      "Epoch 33/50\n",
      "219/219 [==============================] - 1s 4ms/step - loss: 0.2646 - accuracy: 0.9070 - val_loss: 0.4446 - val_accuracy: 0.8586\n",
      "Epoch 34/50\n",
      "219/219 [==============================] - 1s 5ms/step - loss: 0.2619 - accuracy: 0.9039 - val_loss: 0.4827 - val_accuracy: 0.8485\n",
      "Epoch 35/50\n",
      "219/219 [==============================] - 1s 5ms/step - loss: 0.2570 - accuracy: 0.9078 - val_loss: 0.5018 - val_accuracy: 0.8364\n",
      "Epoch 36/50\n",
      "219/219 [==============================] - 1s 5ms/step - loss: 0.2434 - accuracy: 0.9111 - val_loss: 0.4560 - val_accuracy: 0.8606\n",
      "Epoch 37/50\n",
      "219/219 [==============================] - 1s 5ms/step - loss: 0.2226 - accuracy: 0.9219 - val_loss: 0.4844 - val_accuracy: 0.8505\n",
      "Epoch 38/50\n",
      "219/219 [==============================] - 1s 5ms/step - loss: 0.1873 - accuracy: 0.9368 - val_loss: 0.4537 - val_accuracy: 0.8646\n",
      "Epoch 39/50\n",
      "219/219 [==============================] - 1s 4ms/step - loss: 0.2354 - accuracy: 0.9142 - val_loss: 0.4877 - val_accuracy: 0.8566\n",
      "Epoch 40/50\n",
      "219/219 [==============================] - 1s 4ms/step - loss: 0.2064 - accuracy: 0.9276 - val_loss: 0.5897 - val_accuracy: 0.8273\n",
      "Epoch 41/50\n",
      "219/219 [==============================] - 1s 4ms/step - loss: 0.1952 - accuracy: 0.9315 - val_loss: 0.4326 - val_accuracy: 0.8778\n",
      "Epoch 42/50\n",
      "219/219 [==============================] - 1s 4ms/step - loss: 0.1573 - accuracy: 0.9448 - val_loss: 0.5102 - val_accuracy: 0.8606\n",
      "Epoch 43/50\n",
      "219/219 [==============================] - 1s 4ms/step - loss: 0.1914 - accuracy: 0.9344 - val_loss: 0.5466 - val_accuracy: 0.8475\n",
      "Epoch 44/50\n",
      "219/219 [==============================] - 1s 4ms/step - loss: 0.1400 - accuracy: 0.9522 - val_loss: 0.4467 - val_accuracy: 0.8697\n",
      "Epoch 45/50\n",
      "219/219 [==============================] - 1s 5ms/step - loss: 0.1717 - accuracy: 0.9382 - val_loss: 0.4902 - val_accuracy: 0.8677\n",
      "Epoch 46/50\n",
      "219/219 [==============================] - 1s 6ms/step - loss: 0.1672 - accuracy: 0.9402 - val_loss: 0.4570 - val_accuracy: 0.8657\n",
      "Epoch 47/50\n",
      "219/219 [==============================] - 1s 6ms/step - loss: 0.1608 - accuracy: 0.9418 - val_loss: 0.4474 - val_accuracy: 0.8747\n",
      "Epoch 48/50\n",
      "219/219 [==============================] - 1s 5ms/step - loss: 0.1363 - accuracy: 0.9499 - val_loss: 0.4778 - val_accuracy: 0.8788\n",
      "Epoch 49/50\n",
      "219/219 [==============================] - 1s 5ms/step - loss: 0.1415 - accuracy: 0.9514 - val_loss: 0.5263 - val_accuracy: 0.8636\n",
      "Epoch 50/50\n",
      "219/219 [==============================] - 1s 4ms/step - loss: 0.1526 - accuracy: 0.9447 - val_loss: 0.5188 - val_accuracy: 0.8556\n"
     ]
    },
    {
     "data": {
      "text/plain": [
       "<keras.callbacks.History at 0x1c0d3540710>"
      ]
     },
     "execution_count": 76,
     "metadata": {},
     "output_type": "execute_result"
    }
   ],
   "source": [
    "model = keras.Sequential()\n",
    "\n",
    "model.add(keras.layers.Dense(512, activation = 'relu'))\n",
    "model.add(keras.layers.Dense(256, activation = 'relu'))\n",
    "model.add(keras.layers.Dense(128, activation = 'relu'))\n",
    "model.add(keras.layers.Dense(64, activation = 'relu'))\n",
    "model.add(keras.layers.Dense(16, activation = 'relu'))\n",
    "model.add(keras.layers.Dense(10, activation = 'softmax'))\n",
    "\n",
    "model.compile(optimizer = 'adam', \n",
    "              loss = 'categorical_crossentropy',\n",
    "             metrics=['accuracy'])\n",
    "\n",
    "model.fit(X_train, y_train, epochs=50, validation_data = (X_valid,y_valid))\n"
   ]
  },
  {
   "cell_type": "markdown",
   "metadata": {},
   "source": [
    "## Model Evaluation"
   ]
  },
  {
   "cell_type": "markdown",
   "metadata": {},
   "source": [
    "Evaluation of the models will consist of:\n",
    "    1. Accuracy vs Epochs on Validation and Training Sets\n",
    "    2. Loss vs Epochs on Validation and Training Sets\n",
    "    3. Accuracy \n",
    "    4. Precision\n",
    "    5. Recall \n",
    "    6. Confusion Matric "
   ]
  },
  {
   "cell_type": "code",
   "execution_count": 77,
   "metadata": {},
   "outputs": [],
   "source": [
    "hist_baseline = model.history"
   ]
  },
  {
   "cell_type": "code",
   "execution_count": 78,
   "metadata": {},
   "outputs": [],
   "source": [
    "def plot_acc_err(hist):\n",
    "    plt.figure(figsize=(20,15))\n",
    "    fig, axs = plt.subplots(2)\n",
    "    axs[0].plot(hist.history[\"accuracy\"], label=\"train accuracy\")\n",
    "    axs[0].plot(hist.history[\"val_accuracy\"], label=\"test accuracy\")    \n",
    "    axs[0].set_ylabel(\"Accuracy\")\n",
    "    axs[0].legend(loc=\"lower right\")\n",
    "    axs[0].set_title(\"Accuracy eval\")\n",
    "    print(\"\\n\")\n",
    "    # Error \n",
    "    axs[1].plot(hist.history[\"loss\"], label=\"train error\")\n",
    "    axs[1].plot(hist.history[\"val_loss\"], label=\"test error\")    \n",
    "    axs[1].set_ylabel(\"Error\")\n",
    "    axs[1].set_xlabel(\"Epoch\")\n",
    "    axs[1].legend(loc=\"upper right\")\n",
    "    axs[1].set_title(\"Error eval\")\n",
    "\n",
    "    plt.show()"
   ]
  },
  {
   "cell_type": "code",
   "execution_count": 79,
   "metadata": {},
   "outputs": [
    {
     "name": "stdout",
     "output_type": "stream",
     "text": [
      "\n",
      "\n"
     ]
    },
    {
     "data": {
      "text/plain": [
       "<Figure size 1440x1080 with 0 Axes>"
      ]
     },
     "metadata": {},
     "output_type": "display_data"
    },
    {
     "data": {
      "image/png": "[encoded data removed]",
      "text/plain": [
       "<Figure size 432x288 with 2 Axes>"
      ]
     },
     "metadata": {
      "needs_background": "light"
     },
     "output_type": "display_data"
    }
   ],
   "source": [
    "#1. Accuracy vs Epochs on Validation and Training Sets\n",
    "#2. Loss vs Epochs on Validation and Training Sets\n",
    "plot_acc_err(hist_baseline)"
   ]
  },
  {
   "cell_type": "code",
   "execution_count": 80,
   "metadata": {},
   "outputs": [
    {
     "name": "stdout",
     "output_type": "stream",
     "text": [
      "63/63 [==============================] - 0s 3ms/step - loss: 0.5802 - accuracy: 0.8490\n"
     ]
    },
    {
     "data": {
      "text/plain": [
       "[0.580242931842804, 0.8490284085273743]"
      ]
     },
     "execution_count": 80,
     "metadata": {},
     "output_type": "execute_result"
    }
   ],
   "source": [
    "#evaluate accuracy on the test set \n",
    "model.evaluate(X_test,y_test)"
   ]
  },
  {
   "cell_type": "code",
   "execution_count": 84,
   "metadata": {},
   "outputs": [
    {
     "name": "stdout",
     "output_type": "stream",
     "text": [
      "201/201 [==============================] - 0s 2ms/step\n",
      "              precision    recall  f1-score   support\n",
      "\n",
      "           0       0.94      0.84      0.89       217\n",
      "           1       0.96      0.93      0.94       206\n",
      "           2       0.80      0.80      0.80       215\n",
      "           3       0.87      0.73      0.80       181\n",
      "           4       0.82      0.90      0.86       206\n",
      "           5       0.88      0.86      0.87       206\n",
      "           6       0.90      0.94      0.92       196\n",
      "           7       0.93      0.79      0.85       193\n",
      "           8       0.92      0.77      0.84       204\n",
      "           9       0.61      0.91      0.73       183\n",
      "\n",
      "   micro avg       0.85      0.85      0.85      2007\n",
      "   macro avg       0.86      0.85      0.85      2007\n",
      "weighted avg       0.86      0.85      0.85      2007\n",
      "\n"
     ]
    }
   ],
   "source": [
    "predictions = model.predict(X_test, batch_size=10, verbose=True)\n",
    "preds = np.argmax(predictions,axis=1)\n",
    "label = np.argmax(y_test,axis=1)\n",
    "print(classification_report(label,preds))"
   ]
  },
  {
   "cell_type": "code",
   "execution_count": 51,
   "metadata": {},
   "outputs": [],
   "source": [
    "def plot_confusion_matrix(cm, classes,\n",
    "                          normalize=False,\n",
    "                          title='Confusion matrix',\n",
    "                          cmap=plt.cm.Blues):\n",
    "    \"\"\"\n",
    "    This function prints and plots the confusion matrix.\n",
    "    Normalization can be applied by setting `normalize=True`.\n",
    "    \"\"\"\n",
    "    plt.imshow(cm, interpolation='nearest', cmap=cmap)\n",
    "    plt.title(title)\n",
    "    plt.colorbar()\n",
    "    tick_marks = np.arange(len(classes))\n",
    "    plt.xticks(tick_marks, classes, rotation=45)\n",
    "    plt.yticks(tick_marks, classes)\n",
    "\n",
    "    if normalize:\n",
    "        cm = cm.astype('float') / cm.sum(axis=1)[:, np.newaxis]\n",
    "        print(\"Normalized confusion matrix\")\n",
    "    else:\n",
    "        print('Confusion matrix, without normalization')\n",
    "\n",
    "    print(cm)\n",
    "\n",
    "    thresh = cm.max() / 2.\n",
    "    for i, j in itertools.product(range(cm.shape[0]), range(cm.shape[1])):\n",
    "        plt.text(j, i, cm[i, j],\n",
    "                 horizontalalignment=\"center\",\n",
    "                 color=\"white\" if cm[i, j] > thresh else \"black\")\n",
    "\n",
    "    plt.tight_layout()\n",
    "    plt.ylabel('True label')\n",
    "    plt.xlabel('Predicted label')\n",
    "    plt.savefig(\"confusionmatrix.pdf\")\n"
   ]
  },
  {
   "cell_type": "code",
   "execution_count": 52,
   "metadata": {},
   "outputs": [
    {
     "name": "stdout",
     "output_type": "stream",
     "text": [
      "Confusion matrix, without normalization\n",
      "[[193   0   3   2   0   1   0   0   3   1]\n",
      " [  0 190   1   0   0  10   0   0   1   1]\n",
      " [  9   1 177   1   1   6   0   0   6   6]\n",
      " [  0   1   1 192   2   1   1   3  10   9]\n",
      " [  4   2   2   8 154   1   1   3  22   3]\n",
      " [ 11   8   9   1   0 168   0   0   0   1]\n",
      " [  5   0   0   2   7   0 168   0   1   6]\n",
      " [  0   1   4   4   8   1   0 153   7   6]\n",
      " [  4   0   1   1   4   2   0   1 194   2]\n",
      " [ 11   1  17  15   0   3   3   3   7 134]]\n"
     ]
    },
    {
     "data": {
      "image/png": "[encoded data removed]",
      "text/plain": [
       "<Figure size 432x288 with 2 Axes>"
      ]
     },
     "metadata": {
      "needs_background": "light"
     },
     "output_type": "display_data"
    }
   ],
   "source": [
    "from sklearn.metrics import confusion_matrix\n",
    "import itertools\n",
    "cm = confusion_matrix(y_true=label,y_pred=preds)\n",
    "label = list(unique_labels)\n",
    "plot_confusion_matrix(cm, label,title='Confusion matrix')"
   ]
  },
  {
   "cell_type": "markdown",
   "metadata": {},
   "source": [
    "## Model Finetuning "
   ]
  },
  {
   "cell_type": "markdown",
   "metadata": {},
   "source": [
    "### L1 and L2 regularization"
   ]
  },
  {
   "cell_type": "code",
   "execution_count": 85,
   "metadata": {},
   "outputs": [
    {
     "name": "stdout",
     "output_type": "stream",
     "text": [
      "Epoch 1/50\n",
      "219/219 [==============================] - 4s 9ms/step - loss: 1.8465 - accuracy: 0.3406 - val_loss: 1.4602 - val_accuracy: 0.4727\n",
      "Epoch 2/50\n",
      "219/219 [==============================] - 2s 7ms/step - loss: 1.4125 - accuracy: 0.4951 - val_loss: 1.2365 - val_accuracy: 0.5485\n",
      "Epoch 3/50\n",
      "219/219 [==============================] - 1s 6ms/step - loss: 1.3019 - accuracy: 0.5430 - val_loss: 1.1710 - val_accuracy: 0.5919\n",
      "Epoch 4/50\n",
      "219/219 [==============================] - 1s 6ms/step - loss: 1.2292 - accuracy: 0.5734 - val_loss: 1.1363 - val_accuracy: 0.6111\n",
      "Epoch 5/50\n",
      "219/219 [==============================] - 2s 8ms/step - loss: 1.1281 - accuracy: 0.6149 - val_loss: 1.0084 - val_accuracy: 0.6667\n",
      "Epoch 6/50\n",
      "219/219 [==============================] - 2s 10ms/step - loss: 1.0985 - accuracy: 0.6265 - val_loss: 1.1665 - val_accuracy: 0.6212\n",
      "Epoch 7/50\n",
      "219/219 [==============================] - 2s 9ms/step - loss: 1.0276 - accuracy: 0.6542 - val_loss: 0.9540 - val_accuracy: 0.6980\n",
      "Epoch 8/50\n",
      "219/219 [==============================] - 2s 8ms/step - loss: 0.9930 - accuracy: 0.6654 - val_loss: 0.9921 - val_accuracy: 0.6747\n",
      "Epoch 9/50\n",
      "219/219 [==============================] - ETA: 0s - loss: 0.9449 - accuracy: 0.68 - 1s 6ms/step - loss: 0.9441 - accuracy: 0.6895 - val_loss: 0.8858 - val_accuracy: 0.7141\n",
      "Epoch 10/50\n",
      "219/219 [==============================] - 1s 6ms/step - loss: 0.9396 - accuracy: 0.6924 - val_loss: 0.8494 - val_accuracy: 0.7273\n",
      "Epoch 11/50\n",
      "219/219 [==============================] - 2s 8ms/step - loss: 0.9156 - accuracy: 0.6980 - val_loss: 0.8917 - val_accuracy: 0.7273\n",
      "Epoch 12/50\n",
      "219/219 [==============================] - 2s 8ms/step - loss: 0.8841 - accuracy: 0.7183 - val_loss: 0.9153 - val_accuracy: 0.6980\n",
      "Epoch 13/50\n",
      "219/219 [==============================] - 1s 7ms/step - loss: 0.8722 - accuracy: 0.7163 - val_loss: 0.8249 - val_accuracy: 0.7465\n",
      "Epoch 14/50\n",
      "219/219 [==============================] - 1s 6ms/step - loss: 0.8409 - accuracy: 0.7323 - val_loss: 0.8226 - val_accuracy: 0.7354\n",
      "Epoch 15/50\n",
      "219/219 [==============================] - 1s 5ms/step - loss: 0.8286 - accuracy: 0.7365 - val_loss: 0.8630 - val_accuracy: 0.7313\n",
      "Epoch 16/50\n",
      "219/219 [==============================] - 1s 6ms/step - loss: 0.8080 - accuracy: 0.7445 - val_loss: 0.7926 - val_accuracy: 0.7646\n",
      "Epoch 17/50\n",
      "219/219 [==============================] - 2s 9ms/step - loss: 0.7846 - accuracy: 0.7515 - val_loss: 0.8144 - val_accuracy: 0.7465\n",
      "Epoch 18/50\n",
      "219/219 [==============================] - 2s 7ms/step - loss: 0.7677 - accuracy: 0.7598 - val_loss: 0.7417 - val_accuracy: 0.7768\n",
      "Epoch 19/50\n",
      "219/219 [==============================] - 2s 9ms/step - loss: 0.7459 - accuracy: 0.7705 - val_loss: 0.7572 - val_accuracy: 0.7717\n",
      "Epoch 20/50\n",
      "219/219 [==============================] - 2s 10ms/step - loss: 0.7248 - accuracy: 0.7752 - val_loss: 0.8135 - val_accuracy: 0.7434\n",
      "Epoch 21/50\n",
      "219/219 [==============================] - 2s 8ms/step - loss: 0.7381 - accuracy: 0.7693 - val_loss: 0.7721 - val_accuracy: 0.7566\n",
      "Epoch 22/50\n",
      "219/219 [==============================] - 2s 7ms/step - loss: 0.7074 - accuracy: 0.7868 - val_loss: 0.7526 - val_accuracy: 0.7788\n",
      "Epoch 23/50\n",
      "219/219 [==============================] - 2s 7ms/step - loss: 0.6962 - accuracy: 0.7939 - val_loss: 0.7582 - val_accuracy: 0.7727\n",
      "Epoch 24/50\n",
      "219/219 [==============================] - 2s 7ms/step - loss: 0.6676 - accuracy: 0.8018 - val_loss: 0.7482 - val_accuracy: 0.7848\n",
      "Epoch 25/50\n",
      "219/219 [==============================] - 2s 7ms/step - loss: 0.6699 - accuracy: 0.8004 - val_loss: 0.6753 - val_accuracy: 0.8040\n",
      "Epoch 26/50\n",
      "219/219 [==============================] - 1s 5ms/step - loss: 0.6377 - accuracy: 0.8155 - val_loss: 0.8214 - val_accuracy: 0.7485\n",
      "Epoch 27/50\n",
      "219/219 [==============================] - 1s 5ms/step - loss: 0.6257 - accuracy: 0.8267 - val_loss: 0.7222 - val_accuracy: 0.7939\n",
      "Epoch 28/50\n",
      "219/219 [==============================] - 1s 6ms/step - loss: 0.6191 - accuracy: 0.8214 - val_loss: 0.8302 - val_accuracy: 0.7485\n",
      "Epoch 29/50\n",
      "219/219 [==============================] - 1s 5ms/step - loss: 0.6011 - accuracy: 0.8293 - val_loss: 0.6749 - val_accuracy: 0.7980\n",
      "Epoch 30/50\n",
      "219/219 [==============================] - 2s 7ms/step - loss: 0.5831 - accuracy: 0.8341 - val_loss: 0.7819 - val_accuracy: 0.7727\n",
      "Epoch 31/50\n",
      "219/219 [==============================] - 2s 9ms/step - loss: 0.5725 - accuracy: 0.8403 - val_loss: 0.7364 - val_accuracy: 0.7697\n",
      "Epoch 32/50\n",
      "219/219 [==============================] - 2s 7ms/step - loss: 0.5644 - accuracy: 0.8401 - val_loss: 0.6793 - val_accuracy: 0.8040\n",
      "Epoch 33/50\n",
      "219/219 [==============================] - 2s 7ms/step - loss: 0.5669 - accuracy: 0.8417 - val_loss: 0.7054 - val_accuracy: 0.8010\n",
      "Epoch 34/50\n",
      "219/219 [==============================] - 2s 8ms/step - loss: 0.5569 - accuracy: 0.8451 - val_loss: 0.6231 - val_accuracy: 0.8283\n",
      "Epoch 35/50\n",
      "219/219 [==============================] - 2s 7ms/step - loss: 0.5252 - accuracy: 0.8601 - val_loss: 0.6316 - val_accuracy: 0.8202\n",
      "Epoch 36/50\n",
      "219/219 [==============================] - 2s 9ms/step - loss: 0.5195 - accuracy: 0.8597 - val_loss: 0.7791 - val_accuracy: 0.7798\n",
      "Epoch 37/50\n",
      "219/219 [==============================] - 2s 8ms/step - loss: 0.5009 - accuracy: 0.8683 - val_loss: 0.6443 - val_accuracy: 0.8091\n",
      "Epoch 38/50\n",
      "219/219 [==============================] - 2s 7ms/step - loss: 0.4902 - accuracy: 0.8734 - val_loss: 0.6179 - val_accuracy: 0.8242\n",
      "Epoch 39/50\n",
      "219/219 [==============================] - 2s 7ms/step - loss: 0.4786 - accuracy: 0.8760 - val_loss: 0.6095 - val_accuracy: 0.8434\n",
      "Epoch 40/50\n",
      "219/219 [==============================] - 2s 7ms/step - loss: 0.4847 - accuracy: 0.8756 - val_loss: 0.5921 - val_accuracy: 0.8495\n",
      "Epoch 41/50\n",
      "219/219 [==============================] - 2s 9ms/step - loss: 0.4752 - accuracy: 0.8762 - val_loss: 0.5909 - val_accuracy: 0.8414\n",
      "Epoch 42/50\n",
      "219/219 [==============================] - 2s 9ms/step - loss: 0.4570 - accuracy: 0.8857 - val_loss: 0.5943 - val_accuracy: 0.8414\n",
      "Epoch 43/50\n",
      "219/219 [==============================] - 2s 8ms/step - loss: 0.4645 - accuracy: 0.8835 - val_loss: 0.6100 - val_accuracy: 0.8364\n",
      "Epoch 44/50\n",
      "219/219 [==============================] - 2s 9ms/step - loss: 0.4504 - accuracy: 0.8863 - val_loss: 0.5822 - val_accuracy: 0.8495\n",
      "Epoch 45/50\n",
      "219/219 [==============================] - 2s 10ms/step - loss: 0.4177 - accuracy: 0.8992 - val_loss: 0.5840 - val_accuracy: 0.8646\n",
      "Epoch 46/50\n",
      "219/219 [==============================] - 2s 11ms/step - loss: 0.4222 - accuracy: 0.8968 - val_loss: 0.5943 - val_accuracy: 0.8505\n",
      "Epoch 47/50\n",
      "219/219 [==============================] - 1s 6ms/step - loss: 0.3998 - accuracy: 0.9069 - val_loss: 0.6976 - val_accuracy: 0.8131\n",
      "Epoch 48/50\n",
      "219/219 [==============================] - 1s 6ms/step - loss: 0.4152 - accuracy: 0.9020 - val_loss: 0.6076 - val_accuracy: 0.8566\n",
      "Epoch 49/50\n",
      "219/219 [==============================] - 1s 5ms/step - loss: 0.4209 - accuracy: 0.8976 - val_loss: 0.6196 - val_accuracy: 0.8434\n",
      "Epoch 50/50\n",
      "219/219 [==============================] - 2s 8ms/step - loss: 0.3914 - accuracy: 0.9095 - val_loss: 0.5993 - val_accuracy: 0.8455\n"
     ]
    },
    {
     "data": {
      "text/plain": [
       "<keras.callbacks.History at 0x1c0d4f467b8>"
      ]
     },
     "execution_count": 85,
     "metadata": {},
     "output_type": "execute_result"
    }
   ],
   "source": [
    "model = keras.Sequential()\n",
    "\n",
    "from tensorflow.keras import regularizers\n",
    "\n",
    "model.add(keras.layers.Dense(512, activation = 'relu', kernel_regularizer=regularizers.l1_l2(l1=1e-5, l2=1e-4)))\n",
    "model.add(keras.layers.Dense(256, activation = 'relu' , kernel_regularizer=regularizers.l1_l2(l1=1e-5, l2=1e-4)))\n",
    "model.add(keras.layers.Dense(128, activation = 'relu', kernel_regularizer=regularizers.l1_l2(l1=1e-5, l2=1e-4)))\n",
    "model.add(keras.layers.Dense(64, activation = 'relu', kernel_regularizer=regularizers.l1_l2(l1=1e-5, l2=1e-4)))\n",
    "model.add(keras.layers.Dense(16, activation = 'relu', kernel_regularizer=regularizers.l1_l2(l1=1e-5, l2=1e-4)))\n",
    "model.add(keras.layers.Dense(10, activation = 'softmax', kernel_regularizer=regularizers.l1_l2(l1=1e-5, l2=1e-4)))\n",
    "\n",
    "model.compile(optimizer = 'adam', \n",
    "              loss = 'categorical_crossentropy',\n",
    "             metrics=['accuracy'])\n",
    "\n",
    "model.fit(X_train, y_train, epochs=50, validation_data = (X_valid,y_valid))"
   ]
  },
  {
   "cell_type": "code",
   "execution_count": 86,
   "metadata": {},
   "outputs": [
    {
     "name": "stdout",
     "output_type": "stream",
     "text": [
      "\n",
      "\n"
     ]
    },
    {
     "data": {
      "text/plain": [
       "<Figure size 1440x1080 with 0 Axes>"
      ]
     },
     "metadata": {},
     "output_type": "display_data"
    },
    {
     "data": {
      "image/png": "[encoded data removed]",
      "text/plain": [
       "<Figure size 432x288 with 2 Axes>"
      ]
     },
     "metadata": {
      "needs_background": "light"
     },
     "output_type": "display_data"
    }
   ],
   "source": [
    "hist_l2_l1 = model.history\n",
    "plot_acc_err(hist_baseline)"
   ]
  },
  {
   "cell_type": "code",
   "execution_count": 87,
   "metadata": {},
   "outputs": [
    {
     "name": "stdout",
     "output_type": "stream",
     "text": [
      "201/201 [==============================] - 1s 3ms/step\n",
      "              precision    recall  f1-score   support\n",
      "\n",
      "           0       0.81      0.95      0.88       217\n",
      "           1       0.93      0.97      0.95       206\n",
      "           2       0.86      0.78      0.82       215\n",
      "           3       0.74      0.87      0.80       181\n",
      "           4       0.86      0.93      0.89       206\n",
      "           5       0.91      0.86      0.88       206\n",
      "           6       0.94      0.89      0.91       196\n",
      "           7       0.90      0.79      0.84       193\n",
      "           8       0.87      0.82      0.84       204\n",
      "           9       0.74      0.68      0.71       183\n",
      "\n",
      "   micro avg       0.86      0.86      0.86      2007\n",
      "   macro avg       0.86      0.85      0.85      2007\n",
      "weighted avg       0.86      0.86      0.85      2007\n",
      "\n",
      "Confusion matrix, without normalization\n",
      "[[207   0   4   2   1   0   0   0   1   2]\n",
      " [  0 200   0   0   0   3   1   0   0   2]\n",
      " [ 15   1 167   2   1   9   0   5   1  14]\n",
      " [  4   0   0 157   7   0   1   2   5   5]\n",
      " [  5   0   0   7 191   0   2   1   0   0]\n",
      " [  3  13   4   2   0 177   0   2   2   3]\n",
      " [  8   0   3   3   2   0 174   0   0   6]\n",
      " [  0   0   2  13   7   0   0 152  12   7]\n",
      " [  4   1   4   6  13   1   0   4 167   4]\n",
      " [  9   1  10  19   0   5   7   2   5 125]]\n"
     ]
    },
    {
     "data": {
      "image/png": "[encoded data removed]",
      "text/plain": [
       "<Figure size 432x288 with 2 Axes>"
      ]
     },
     "metadata": {
      "needs_background": "light"
     },
     "output_type": "display_data"
    }
   ],
   "source": [
    "predictions = model.predict(X_test, batch_size=10, verbose=True)\n",
    "preds = np.argmax(predictions,axis=1)\n",
    "label = np.argmax(y_test,axis=1)\n",
    "print(classification_report(label,preds))\n",
    "cm = confusion_matrix(y_true=label,y_pred=preds)\n",
    "label = list(unique_labels)\n",
    "plot_confusion_matrix(cm, label,title='Confusion matrix')"
   ]
  },
  {
   "cell_type": "markdown",
   "metadata": {},
   "source": [
    "### Dropout Regularization and He Intialization"
   ]
  },
  {
   "cell_type": "code",
   "execution_count": 88,
   "metadata": {},
   "outputs": [
    {
     "name": "stdout",
     "output_type": "stream",
     "text": [
      "Epoch 1/60\n",
      "219/219 [==============================] - 55s 10ms/step - loss: 1.6788 - accuracy: 0.3820 - val_loss: 1.2042 - val_accuracy: 0.5495\n",
      "Epoch 2/60\n",
      "219/219 [==============================] - 1s 7ms/step - loss: 1.2548 - accuracy: 0.5387 - val_loss: 0.9581 - val_accuracy: 0.6505\n",
      "Epoch 3/60\n",
      "219/219 [==============================] - 1s 7ms/step - loss: 1.0930 - accuracy: 0.6029 - val_loss: 0.8962 - val_accuracy: 0.6929\n",
      "Epoch 4/60\n",
      "219/219 [==============================] - 1s 7ms/step - loss: 1.0026 - accuracy: 0.6452 - val_loss: 0.8049 - val_accuracy: 0.7212\n",
      "Epoch 5/60\n",
      "219/219 [==============================] - 1s 7ms/step - loss: 0.9119 - accuracy: 0.6744 - val_loss: 0.7679 - val_accuracy: 0.7354\n",
      "Epoch 6/60\n",
      "219/219 [==============================] - 2s 7ms/step - loss: 0.8679 - accuracy: 0.6880 - val_loss: 0.7361 - val_accuracy: 0.7394\n",
      "Epoch 7/60\n",
      "219/219 [==============================] - 2s 8ms/step - loss: 0.8202 - accuracy: 0.7086 - val_loss: 0.6648 - val_accuracy: 0.7677\n",
      "Epoch 8/60\n",
      "219/219 [==============================] - 2s 8ms/step - loss: 0.7647 - accuracy: 0.7272 - val_loss: 0.6264 - val_accuracy: 0.7879\n",
      "Epoch 9/60\n",
      "219/219 [==============================] - 2s 8ms/step - loss: 0.7361 - accuracy: 0.7356 - val_loss: 0.6521 - val_accuracy: 0.7798\n",
      "Epoch 10/60\n",
      "219/219 [==============================] - 2s 9ms/step - loss: 0.6913 - accuracy: 0.7515 - val_loss: 0.5634 - val_accuracy: 0.7990\n",
      "Epoch 11/60\n",
      "219/219 [==============================] - 2s 8ms/step - loss: 0.6541 - accuracy: 0.7602 - val_loss: 0.5266 - val_accuracy: 0.8101\n",
      "Epoch 12/60\n",
      "219/219 [==============================] - 1s 6ms/step - loss: 0.6319 - accuracy: 0.7741 - val_loss: 0.5442 - val_accuracy: 0.8111\n",
      "Epoch 13/60\n",
      "219/219 [==============================] - 1s 5ms/step - loss: 0.6029 - accuracy: 0.7868 - val_loss: 0.5054 - val_accuracy: 0.8253\n",
      "Epoch 14/60\n",
      "219/219 [==============================] - 2s 8ms/step - loss: 0.5623 - accuracy: 0.8001 - val_loss: 0.4832 - val_accuracy: 0.8333\n",
      "Epoch 15/60\n",
      "219/219 [==============================] - 2s 8ms/step - loss: 0.5442 - accuracy: 0.8047 - val_loss: 0.5062 - val_accuracy: 0.8141\n",
      "Epoch 16/60\n",
      "219/219 [==============================] - 2s 8ms/step - loss: 0.5188 - accuracy: 0.8142 - val_loss: 0.4426 - val_accuracy: 0.8485\n",
      "Epoch 17/60\n",
      "219/219 [==============================] - 2s 8ms/step - loss: 0.4905 - accuracy: 0.8273 - val_loss: 0.4314 - val_accuracy: 0.8465\n",
      "Epoch 18/60\n",
      "219/219 [==============================] - 2s 9ms/step - loss: 0.4745 - accuracy: 0.8284 - val_loss: 0.4321 - val_accuracy: 0.8556\n",
      "Epoch 19/60\n",
      "219/219 [==============================] - 2s 8ms/step - loss: 0.4671 - accuracy: 0.8333 - val_loss: 0.4556 - val_accuracy: 0.8293\n",
      "Epoch 20/60\n",
      "219/219 [==============================] - 1s 6ms/step - loss: 0.4530 - accuracy: 0.8390 - val_loss: 0.4316 - val_accuracy: 0.8525\n",
      "Epoch 21/60\n",
      "219/219 [==============================] - 1s 6ms/step - loss: 0.4238 - accuracy: 0.8496 - val_loss: 0.4607 - val_accuracy: 0.8384\n",
      "Epoch 22/60\n",
      "219/219 [==============================] - 2s 8ms/step - loss: 0.4161 - accuracy: 0.8467 - val_loss: 0.4109 - val_accuracy: 0.8606\n",
      "Epoch 23/60\n",
      "219/219 [==============================] - 2s 8ms/step - loss: 0.3925 - accuracy: 0.8614 - val_loss: 0.3562 - val_accuracy: 0.8838\n",
      "Epoch 24/60\n",
      "219/219 [==============================] - 2s 8ms/step - loss: 0.3782 - accuracy: 0.8600 - val_loss: 0.3588 - val_accuracy: 0.8697\n",
      "Epoch 25/60\n",
      "219/219 [==============================] - 2s 7ms/step - loss: 0.3740 - accuracy: 0.8652 - val_loss: 0.4112 - val_accuracy: 0.8636\n",
      "Epoch 26/60\n",
      "219/219 [==============================] - 1s 6ms/step - loss: 0.3676 - accuracy: 0.8680 - val_loss: 0.3537 - val_accuracy: 0.8788\n",
      "Epoch 27/60\n",
      "219/219 [==============================] - 1s 6ms/step - loss: 0.3393 - accuracy: 0.8784 - val_loss: 0.3449 - val_accuracy: 0.8828\n",
      "Epoch 28/60\n",
      "219/219 [==============================] - 1s 5ms/step - loss: 0.3379 - accuracy: 0.8802 - val_loss: 0.3386 - val_accuracy: 0.8808\n",
      "Epoch 29/60\n",
      "219/219 [==============================] - 1s 5ms/step - loss: 0.3065 - accuracy: 0.8895 - val_loss: 0.3642 - val_accuracy: 0.8778\n",
      "Epoch 30/60\n",
      "219/219 [==============================] - 1s 5ms/step - loss: 0.3180 - accuracy: 0.8847 - val_loss: 0.3296 - val_accuracy: 0.8949\n",
      "Epoch 31/60\n",
      "219/219 [==============================] - 1s 5ms/step - loss: 0.3127 - accuracy: 0.8850 - val_loss: 0.3374 - val_accuracy: 0.8828\n",
      "Epoch 32/60\n",
      "219/219 [==============================] - 1s 5ms/step - loss: 0.2833 - accuracy: 0.8948 - val_loss: 0.3308 - val_accuracy: 0.8899\n",
      "Epoch 33/60\n",
      "219/219 [==============================] - 1s 5ms/step - loss: 0.2897 - accuracy: 0.8952 - val_loss: 0.3464 - val_accuracy: 0.8808\n",
      "Epoch 34/60\n",
      "219/219 [==============================] - 1s 5ms/step - loss: 0.2942 - accuracy: 0.8942 - val_loss: 0.3500 - val_accuracy: 0.8879\n",
      "Epoch 35/60\n",
      "219/219 [==============================] - 1s 5ms/step - loss: 0.2646 - accuracy: 0.9060 - val_loss: 0.3084 - val_accuracy: 0.8909\n",
      "Epoch 36/60\n",
      "219/219 [==============================] - 1s 5ms/step - loss: 0.2657 - accuracy: 0.9066 - val_loss: 0.3407 - val_accuracy: 0.8848\n",
      "Epoch 37/60\n",
      "219/219 [==============================] - 1s 5ms/step - loss: 0.2550 - accuracy: 0.9089 - val_loss: 0.3339 - val_accuracy: 0.8828\n",
      "Epoch 38/60\n",
      "219/219 [==============================] - 1s 5ms/step - loss: 0.2576 - accuracy: 0.9036 - val_loss: 0.3212 - val_accuracy: 0.8848\n",
      "Epoch 39/60\n",
      "219/219 [==============================] - 1s 6ms/step - loss: 0.2499 - accuracy: 0.9086 - val_loss: 0.3282 - val_accuracy: 0.8828\n",
      "Epoch 40/60\n",
      "219/219 [==============================] - 1s 5ms/step - loss: 0.2561 - accuracy: 0.9102 - val_loss: 0.3190 - val_accuracy: 0.8949\n",
      "Epoch 41/60\n",
      "219/219 [==============================] - 2s 8ms/step - loss: 0.2415 - accuracy: 0.9139 - val_loss: 0.3077 - val_accuracy: 0.9051\n",
      "Epoch 42/60\n",
      "219/219 [==============================] - 2s 8ms/step - loss: 0.2309 - accuracy: 0.9146 - val_loss: 0.3124 - val_accuracy: 0.8929\n",
      "Epoch 43/60\n",
      "219/219 [==============================] - 1s 6ms/step - loss: 0.2172 - accuracy: 0.9195 - val_loss: 0.3175 - val_accuracy: 0.9000\n",
      "Epoch 44/60\n",
      "219/219 [==============================] - 1s 5ms/step - loss: 0.2320 - accuracy: 0.9169 - val_loss: 0.3448 - val_accuracy: 0.8990\n",
      "Epoch 45/60\n",
      "219/219 [==============================] - 2s 8ms/step - loss: 0.2233 - accuracy: 0.9199 - val_loss: 0.3411 - val_accuracy: 0.8838\n",
      "Epoch 46/60\n",
      "219/219 [==============================] - 2s 8ms/step - loss: 0.2232 - accuracy: 0.9229 - val_loss: 0.2873 - val_accuracy: 0.9020\n",
      "Epoch 47/60\n",
      "219/219 [==============================] - 2s 8ms/step - loss: 0.2047 - accuracy: 0.9252 - val_loss: 0.2672 - val_accuracy: 0.9121\n",
      "Epoch 48/60\n",
      "219/219 [==============================] - 2s 8ms/step - loss: 0.2292 - accuracy: 0.9225 - val_loss: 0.3483 - val_accuracy: 0.8919\n",
      "Epoch 49/60\n",
      "219/219 [==============================] - 2s 8ms/step - loss: 0.2088 - accuracy: 0.9251 - val_loss: 0.3268 - val_accuracy: 0.8919\n",
      "Epoch 50/60\n",
      "219/219 [==============================] - 1s 7ms/step - loss: 0.2106 - accuracy: 0.9232 - val_loss: 0.3217 - val_accuracy: 0.9040\n",
      "Epoch 51/60\n",
      "219/219 [==============================] - 1s 5ms/step - loss: 0.2116 - accuracy: 0.9231 - val_loss: 0.3159 - val_accuracy: 0.9020\n",
      "Epoch 52/60\n",
      "219/219 [==============================] - 1s 5ms/step - loss: 0.2099 - accuracy: 0.9266 - val_loss: 0.2871 - val_accuracy: 0.9061\n",
      "Epoch 53/60\n",
      "219/219 [==============================] - 1s 6ms/step - loss: 0.1686 - accuracy: 0.9362 - val_loss: 0.3107 - val_accuracy: 0.9081\n",
      "Epoch 54/60\n",
      "219/219 [==============================] - 1s 5ms/step - loss: 0.1837 - accuracy: 0.9321 - val_loss: 0.3136 - val_accuracy: 0.9000\n",
      "Epoch 55/60\n",
      "219/219 [==============================] - 2s 7ms/step - loss: 0.1871 - accuracy: 0.9309 - val_loss: 0.2925 - val_accuracy: 0.9010\n",
      "Epoch 56/60\n",
      "219/219 [==============================] - 1s 7ms/step - loss: 0.1935 - accuracy: 0.9339 - val_loss: 0.2988 - val_accuracy: 0.9061\n",
      "Epoch 57/60\n",
      "219/219 [==============================] - 1s 6ms/step - loss: 0.1718 - accuracy: 0.9356 - val_loss: 0.2875 - val_accuracy: 0.9101\n",
      "Epoch 58/60\n"
     ]
    },
    {
     "name": "stdout",
     "output_type": "stream",
     "text": [
      "219/219 [==============================] - 1s 7ms/step - loss: 0.1652 - accuracy: 0.9412 - val_loss: 0.2885 - val_accuracy: 0.9121\n",
      "Epoch 59/60\n",
      "219/219 [==============================] - 1s 6ms/step - loss: 0.1688 - accuracy: 0.9415 - val_loss: 0.2593 - val_accuracy: 0.9111\n",
      "Epoch 60/60\n",
      "219/219 [==============================] - 1s 7ms/step - loss: 0.1816 - accuracy: 0.9354 - val_loss: 0.3079 - val_accuracy: 0.9000\n"
     ]
    },
    {
     "data": {
      "text/plain": [
       "<keras.callbacks.History at 0x1c0dc3de160>"
      ]
     },
     "execution_count": 88,
     "metadata": {},
     "output_type": "execute_result"
    }
   ],
   "source": [
    "model = keras.Sequential()\n",
    "\n",
    "model.add(keras.layers.Dense(512, activation = \"relu\",kernel_initializer=\"he_normal\"))\n",
    "\n",
    "model.add(keras.layers.Dropout(0.3))\n",
    "\n",
    "model.add(keras.layers.Dense(256, activation = \"relu\", kernel_initializer=\"he_normal\"))\n",
    "\n",
    "model.add(keras.layers.Dropout(0.1))\n",
    "\n",
    "model.add(keras.layers.Dense(128, activation = \"relu\", kernel_initializer=\"he_normal\"))\n",
    "\n",
    "model.add(keras.layers.Dropout(0.1))\n",
    "\n",
    "model.add(keras.layers.Dense(64, activation = \"relu\", kernel_initializer=\"he_normal\"))\n",
    "\n",
    "\n",
    "model.add(keras.layers.Dense(10, activation = \"softmax\"))\n",
    "\n",
    "model.compile(optimizer = 'adam', \n",
    "              loss = 'categorical_crossentropy',\n",
    "             metrics=['accuracy'])\n",
    "\n",
    "model.fit(X_train, y_train, epochs=60, validation_data = (X_valid,y_valid))"
   ]
  },
  {
   "cell_type": "code",
   "execution_count": 89,
   "metadata": {},
   "outputs": [
    {
     "name": "stdout",
     "output_type": "stream",
     "text": [
      "\n",
      "\n"
     ]
    },
    {
     "data": {
      "text/plain": [
       "<Figure size 1440x1080 with 0 Axes>"
      ]
     },
     "metadata": {},
     "output_type": "display_data"
    },
    {
     "data": {
      "image/png": "[encoded data removed]",
      "text/plain": [
       "<Figure size 432x288 with 2 Axes>"
      ]
     },
     "metadata": {
      "needs_background": "light"
     },
     "output_type": "display_data"
    }
   ],
   "source": [
    "hist_dropout = model.history\n",
    "plot_acc_err(hist_dropout)"
   ]
  },
  {
   "cell_type": "code",
   "execution_count": 90,
   "metadata": {},
   "outputs": [
    {
     "name": "stdout",
     "output_type": "stream",
     "text": [
      "201/201 [==============================] - 1s 3ms/step\n",
      "              precision    recall  f1-score   support\n",
      "\n",
      "           0       0.93      0.92      0.93       217\n",
      "           1       0.95      0.96      0.96       206\n",
      "           2       0.88      0.85      0.87       215\n",
      "           3       0.86      0.91      0.88       181\n",
      "           4       0.89      0.96      0.92       206\n",
      "           5       0.92      0.92      0.92       206\n",
      "           6       0.92      0.95      0.93       196\n",
      "           7       0.88      0.92      0.90       193\n",
      "           8       0.93      0.85      0.89       204\n",
      "           9       0.90      0.81      0.86       183\n",
      "\n",
      "   micro avg       0.91      0.91      0.91      2007\n",
      "   macro avg       0.91      0.91      0.90      2007\n",
      "weighted avg       0.91      0.91      0.91      2007\n",
      "\n",
      "Confusion matrix, without normalization\n",
      "[[199   0   8   1   0   3   3   0   2   1]\n",
      " [  0 198   0   0   0   5   0   2   0   1]\n",
      " [  4   0 183   6   1   7   3   6   1   4]\n",
      " [  1   0   0 164   3   0   3   4   4   2]\n",
      " [  0   0   0   3 197   0   0   5   1   0]\n",
      " [  3   8   1   0   0 190   0   2   2   0]\n",
      " [  1   0   2   0   4   1 186   0   0   2]\n",
      " [  0   0   1   2   3   1   0 178   4   4]\n",
      " [  2   1   3   3  13   0   1   5 174   2]\n",
      " [  3   1  10  12   0   0   7   1   0 149]]\n"
     ]
    },
    {
     "data": {
      "image/png": "[encoded data removed]",
      "text/plain": [
       "<Figure size 432x288 with 2 Axes>"
      ]
     },
     "metadata": {
      "needs_background": "light"
     },
     "output_type": "display_data"
    }
   ],
   "source": [
    "predictions = model.predict(X_test, batch_size=10, verbose=True)\n",
    "preds = np.argmax(predictions,axis=1)\n",
    "label = np.argmax(y_test,axis=1)\n",
    "print(classification_report(label,preds))\n",
    "cm = confusion_matrix(y_true=label,y_pred=preds)\n",
    "label = list(unique_labels)\n",
    "plot_confusion_matrix(cm, label,title='Confusion matrix')"
   ]
  },
  {
   "cell_type": "code",
   "execution_count": null,
   "metadata": {},
   "outputs": [],
   "source": []
  }
 ],
 "metadata": {
  "kernelspec": {
   "display_name": "Python 3",
   "language": "python",
   "name": "python3"
  },
  "language_info": {
   "codemirror_mode": {
    "name": "ipython",
    "version": 3
   },
   "file_extension": ".py",
   "mimetype": "text/x-python",
   "name": "python",
   "nbconvert_exporter": "python",
   "pygments_lexer": "ipython3",
   "version": "3.7.3"
  }
 },
 "nbformat": 4,
 "nbformat_minor": 2
}
