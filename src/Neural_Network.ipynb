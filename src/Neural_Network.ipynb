{
 "cells": [
  {
   "cell_type": "markdown",
   "metadata": {},
   "source": [
    "# Music Genre Classification with Neural Networks"
   ]
  },
  {
   "cell_type": "markdown",
   "metadata": {},
   "source": [
    "We will explore the following:\n",
    "    1. Preprocessing \n",
    "    2. Baseline Model\n",
    "    3. Model Evaluation \n",
    "    4. Finetuning Model\n",
    "        a) L1 and L2 Regularization \n",
    "        b) Drop-out Regularization"
   ]
  },
  {
   "cell_type": "markdown",
   "metadata": {},
   "source": [
    "## 1. Preprocessing "
   ]
  },
  {
   "cell_type": "code",
   "execution_count": 1,
   "metadata": {},
   "outputs": [],
   "source": [
    "# import all necessary libraries\n",
    "import pandas as pd \n",
    "import numpy as np \n",
    "import matplotlib.pyplot as plt\n",
    "from tensorflow import keras\n",
    "from sklearn.preprocessing import OneHotEncoder\n",
    "from sklearn import preprocessing\n",
    "from sklearn.preprocessing import StandardScaler\n",
    "from sklearn.model_selection import train_test_split\n",
    "from sklearn.metrics import accuracy_score,precision_score,recall_score, f1_score, classification_report, confusion_matrix\n",
    "import util\n",
    "from util import plot_confusion_matrix"
   ]
  },
  {
   "cell_type": "code",
   "execution_count": 2,
   "metadata": {},
   "outputs": [
    {
     "data": {
      "text/html": [
       "<div>\n",
       "<style scoped>\n",
       "    .dataframe tbody tr th:only-of-type {\n",
       "        vertical-align: middle;\n",
       "    }\n",
       "\n",
       "    .dataframe tbody tr th {\n",
       "        vertical-align: top;\n",
       "    }\n",
       "\n",
       "    .dataframe thead th {\n",
       "        text-align: right;\n",
       "    }\n",
       "</style>\n",
       "<table border=\"1\" class=\"dataframe\">\n",
       "  <thead>\n",
       "    <tr style=\"text-align: right;\">\n",
       "      <th></th>\n",
       "      <th>chroma_stft_mean</th>\n",
       "      <th>chroma_stft_var</th>\n",
       "      <th>rms_mean</th>\n",
       "      <th>rms_var</th>\n",
       "      <th>spectral_centroid_mean</th>\n",
       "      <th>spectral_centroid_var</th>\n",
       "      <th>spectral_bandwidth_mean</th>\n",
       "      <th>spectral_bandwidth_var</th>\n",
       "      <th>rolloff_mean</th>\n",
       "      <th>rolloff_var</th>\n",
       "      <th>...</th>\n",
       "      <th>mfcc16_var</th>\n",
       "      <th>mfcc17_mean</th>\n",
       "      <th>mfcc17_var</th>\n",
       "      <th>mfcc18_mean</th>\n",
       "      <th>mfcc18_var</th>\n",
       "      <th>mfcc19_mean</th>\n",
       "      <th>mfcc19_var</th>\n",
       "      <th>mfcc20_mean</th>\n",
       "      <th>mfcc20_var</th>\n",
       "      <th>label</th>\n",
       "    </tr>\n",
       "  </thead>\n",
       "  <tbody>\n",
       "    <tr>\n",
       "      <th>0</th>\n",
       "      <td>0.335406</td>\n",
       "      <td>0.091048</td>\n",
       "      <td>0.130405</td>\n",
       "      <td>0.003521</td>\n",
       "      <td>1773.065032</td>\n",
       "      <td>167541.630869</td>\n",
       "      <td>1972.744388</td>\n",
       "      <td>117335.771563</td>\n",
       "      <td>3714.560359</td>\n",
       "      <td>1.080790e+06</td>\n",
       "      <td>...</td>\n",
       "      <td>39.687145</td>\n",
       "      <td>-3.241280</td>\n",
       "      <td>36.488243</td>\n",
       "      <td>0.722209</td>\n",
       "      <td>38.099152</td>\n",
       "      <td>-5.050335</td>\n",
       "      <td>33.618073</td>\n",
       "      <td>-0.243027</td>\n",
       "      <td>43.771767</td>\n",
       "      <td>blues</td>\n",
       "    </tr>\n",
       "    <tr>\n",
       "      <th>1</th>\n",
       "      <td>0.343065</td>\n",
       "      <td>0.086147</td>\n",
       "      <td>0.112699</td>\n",
       "      <td>0.001450</td>\n",
       "      <td>1816.693777</td>\n",
       "      <td>90525.690866</td>\n",
       "      <td>2010.051501</td>\n",
       "      <td>65671.875673</td>\n",
       "      <td>3869.682242</td>\n",
       "      <td>6.722448e+05</td>\n",
       "      <td>...</td>\n",
       "      <td>64.748276</td>\n",
       "      <td>-6.055294</td>\n",
       "      <td>40.677654</td>\n",
       "      <td>0.159015</td>\n",
       "      <td>51.264091</td>\n",
       "      <td>-2.837699</td>\n",
       "      <td>97.030830</td>\n",
       "      <td>5.784063</td>\n",
       "      <td>59.943081</td>\n",
       "      <td>blues</td>\n",
       "    </tr>\n",
       "    <tr>\n",
       "      <th>2</th>\n",
       "      <td>0.346815</td>\n",
       "      <td>0.092243</td>\n",
       "      <td>0.132003</td>\n",
       "      <td>0.004620</td>\n",
       "      <td>1788.539719</td>\n",
       "      <td>111407.437613</td>\n",
       "      <td>2084.565132</td>\n",
       "      <td>75124.921716</td>\n",
       "      <td>3997.639160</td>\n",
       "      <td>7.907127e+05</td>\n",
       "      <td>...</td>\n",
       "      <td>67.336563</td>\n",
       "      <td>-1.768610</td>\n",
       "      <td>28.348579</td>\n",
       "      <td>2.378768</td>\n",
       "      <td>45.717648</td>\n",
       "      <td>-1.938424</td>\n",
       "      <td>53.050835</td>\n",
       "      <td>2.517375</td>\n",
       "      <td>33.105122</td>\n",
       "      <td>blues</td>\n",
       "    </tr>\n",
       "    <tr>\n",
       "      <th>3</th>\n",
       "      <td>0.363639</td>\n",
       "      <td>0.086856</td>\n",
       "      <td>0.132565</td>\n",
       "      <td>0.002448</td>\n",
       "      <td>1655.289045</td>\n",
       "      <td>111952.284517</td>\n",
       "      <td>1960.039988</td>\n",
       "      <td>82913.639269</td>\n",
       "      <td>3568.300218</td>\n",
       "      <td>9.216524e+05</td>\n",
       "      <td>...</td>\n",
       "      <td>47.739452</td>\n",
       "      <td>-3.841155</td>\n",
       "      <td>28.337118</td>\n",
       "      <td>1.218588</td>\n",
       "      <td>34.770935</td>\n",
       "      <td>-3.580352</td>\n",
       "      <td>50.836224</td>\n",
       "      <td>3.630866</td>\n",
       "      <td>32.023678</td>\n",
       "      <td>blues</td>\n",
       "    </tr>\n",
       "    <tr>\n",
       "      <th>4</th>\n",
       "      <td>0.335579</td>\n",
       "      <td>0.088129</td>\n",
       "      <td>0.143289</td>\n",
       "      <td>0.001701</td>\n",
       "      <td>1630.656199</td>\n",
       "      <td>79667.267654</td>\n",
       "      <td>1948.503884</td>\n",
       "      <td>60204.020268</td>\n",
       "      <td>3469.992864</td>\n",
       "      <td>6.102111e+05</td>\n",
       "      <td>...</td>\n",
       "      <td>30.336359</td>\n",
       "      <td>0.664582</td>\n",
       "      <td>45.880913</td>\n",
       "      <td>1.689446</td>\n",
       "      <td>51.363583</td>\n",
       "      <td>-3.392489</td>\n",
       "      <td>26.738789</td>\n",
       "      <td>0.536961</td>\n",
       "      <td>29.146694</td>\n",
       "      <td>blues</td>\n",
       "    </tr>\n",
       "  </tbody>\n",
       "</table>\n",
       "<p>5 rows × 58 columns</p>\n",
       "</div>"
      ],
      "text/plain": [
       "   chroma_stft_mean  chroma_stft_var  rms_mean   rms_var  \\\n",
       "0          0.335406         0.091048  0.130405  0.003521   \n",
       "1          0.343065         0.086147  0.112699  0.001450   \n",
       "2          0.346815         0.092243  0.132003  0.004620   \n",
       "3          0.363639         0.086856  0.132565  0.002448   \n",
       "4          0.335579         0.088129  0.143289  0.001701   \n",
       "\n",
       "   spectral_centroid_mean  spectral_centroid_var  spectral_bandwidth_mean  \\\n",
       "0             1773.065032          167541.630869              1972.744388   \n",
       "1             1816.693777           90525.690866              2010.051501   \n",
       "2             1788.539719          111407.437613              2084.565132   \n",
       "3             1655.289045          111952.284517              1960.039988   \n",
       "4             1630.656199           79667.267654              1948.503884   \n",
       "\n",
       "   spectral_bandwidth_var  rolloff_mean   rolloff_var  ...  mfcc16_var  \\\n",
       "0           117335.771563   3714.560359  1.080790e+06  ...   39.687145   \n",
       "1            65671.875673   3869.682242  6.722448e+05  ...   64.748276   \n",
       "2            75124.921716   3997.639160  7.907127e+05  ...   67.336563   \n",
       "3            82913.639269   3568.300218  9.216524e+05  ...   47.739452   \n",
       "4            60204.020268   3469.992864  6.102111e+05  ...   30.336359   \n",
       "\n",
       "   mfcc17_mean  mfcc17_var  mfcc18_mean  mfcc18_var  mfcc19_mean  mfcc19_var  \\\n",
       "0    -3.241280   36.488243     0.722209   38.099152    -5.050335   33.618073   \n",
       "1    -6.055294   40.677654     0.159015   51.264091    -2.837699   97.030830   \n",
       "2    -1.768610   28.348579     2.378768   45.717648    -1.938424   53.050835   \n",
       "3    -3.841155   28.337118     1.218588   34.770935    -3.580352   50.836224   \n",
       "4     0.664582   45.880913     1.689446   51.363583    -3.392489   26.738789   \n",
       "\n",
       "   mfcc20_mean  mfcc20_var  label  \n",
       "0    -0.243027   43.771767  blues  \n",
       "1     5.784063   59.943081  blues  \n",
       "2     2.517375   33.105122  blues  \n",
       "3     3.630866   32.023678  blues  \n",
       "4     0.536961   29.146694  blues  \n",
       "\n",
       "[5 rows x 58 columns]"
      ]
     },
     "execution_count": 2,
     "metadata": {},
     "output_type": "execute_result"
    }
   ],
   "source": [
    "# load the 3-second variation of the dataset and create a pandas dataframe\n",
    "path_3_sec = ('../Data/features_3_sec.csv')\n",
    "path_30_sec = ('../Data/features_3_sec.csv')\n",
    "df = pd.read_csv(path_3_sec)\n",
    "df = df.drop(['filename','length'], axis=1)\n",
    "\n",
    "df.head()"
   ]
  },
  {
   "cell_type": "code",
   "execution_count": 3,
   "metadata": {},
   "outputs": [
    {
     "data": {
      "text/plain": [
       "array(['blues', 'classical', 'country', 'disco', 'hiphop', 'jazz',\n",
       "       'metal', 'pop', 'reggae', 'rock'], dtype=object)"
      ]
     },
     "execution_count": 3,
     "metadata": {},
     "output_type": "execute_result"
    }
   ],
   "source": [
    "#Before Applying one hot encoding, store the original labels\n",
    "y_original = df[\"label\"]\n",
    "unique_labels = y_original.unique()\n",
    "unique_labels"
   ]
  },
  {
   "cell_type": "code",
   "execution_count": 4,
   "metadata": {},
   "outputs": [
    {
     "data": {
      "text/plain": [
       "array([[1., 0., 0., ..., 0., 0., 0.],\n",
       "       [1., 0., 0., ..., 0., 0., 0.],\n",
       "       [1., 0., 0., ..., 0., 0., 0.],\n",
       "       ...,\n",
       "       [0., 0., 0., ..., 0., 0., 1.],\n",
       "       [0., 0., 0., ..., 0., 0., 1.],\n",
       "       [0., 0., 0., ..., 0., 0., 1.]])"
      ]
     },
     "execution_count": 4,
     "metadata": {},
     "output_type": "execute_result"
    }
   ],
   "source": [
    "#Apply one-hot encoding to labels \n",
    "enc = OneHotEncoder(sparse=False)\n",
    "y = enc.fit_transform(df[[\"label\"]])\n",
    "y"
   ]
  },
  {
   "cell_type": "code",
   "execution_count": 5,
   "metadata": {},
   "outputs": [
    {
     "data": {
      "text/html": [
       "<div>\n",
       "<style scoped>\n",
       "    .dataframe tbody tr th:only-of-type {\n",
       "        vertical-align: middle;\n",
       "    }\n",
       "\n",
       "    .dataframe tbody tr th {\n",
       "        vertical-align: top;\n",
       "    }\n",
       "\n",
       "    .dataframe thead th {\n",
       "        text-align: right;\n",
       "    }\n",
       "</style>\n",
       "<table border=\"1\" class=\"dataframe\">\n",
       "  <thead>\n",
       "    <tr style=\"text-align: right;\">\n",
       "      <th></th>\n",
       "      <th>chroma_stft_mean</th>\n",
       "      <th>chroma_stft_var</th>\n",
       "      <th>rms_mean</th>\n",
       "      <th>rms_var</th>\n",
       "      <th>spectral_centroid_mean</th>\n",
       "      <th>spectral_centroid_var</th>\n",
       "      <th>spectral_bandwidth_mean</th>\n",
       "      <th>spectral_bandwidth_var</th>\n",
       "      <th>rolloff_mean</th>\n",
       "      <th>rolloff_var</th>\n",
       "      <th>...</th>\n",
       "      <th>mfcc16_var</th>\n",
       "      <th>mfcc17_mean</th>\n",
       "      <th>mfcc17_var</th>\n",
       "      <th>mfcc18_mean</th>\n",
       "      <th>mfcc18_var</th>\n",
       "      <th>mfcc19_mean</th>\n",
       "      <th>mfcc19_var</th>\n",
       "      <th>mfcc20_mean</th>\n",
       "      <th>mfcc20_var</th>\n",
       "      <th>label</th>\n",
       "    </tr>\n",
       "  </thead>\n",
       "  <tbody>\n",
       "    <tr>\n",
       "      <th>0</th>\n",
       "      <td>0.355399</td>\n",
       "      <td>0.716757</td>\n",
       "      <td>0.293133</td>\n",
       "      <td>0.107955</td>\n",
       "      <td>0.262173</td>\n",
       "      <td>0.034784</td>\n",
       "      <td>0.459205</td>\n",
       "      <td>0.094130</td>\n",
       "      <td>0.346153</td>\n",
       "      <td>0.083164</td>\n",
       "      <td>...</td>\n",
       "      <td>0.056198</td>\n",
       "      <td>0.397172</td>\n",
       "      <td>0.066062</td>\n",
       "      <td>0.371828</td>\n",
       "      <td>0.055344</td>\n",
       "      <td>0.380831</td>\n",
       "      <td>0.026797</td>\n",
       "      <td>0.506746</td>\n",
       "      <td>0.047781</td>\n",
       "      <td>blues</td>\n",
       "    </tr>\n",
       "    <tr>\n",
       "      <th>1</th>\n",
       "      <td>0.367322</td>\n",
       "      <td>0.670347</td>\n",
       "      <td>0.253040</td>\n",
       "      <td>0.044447</td>\n",
       "      <td>0.270969</td>\n",
       "      <td>0.018716</td>\n",
       "      <td>0.470831</td>\n",
       "      <td>0.052261</td>\n",
       "      <td>0.363722</td>\n",
       "      <td>0.051694</td>\n",
       "      <td>...</td>\n",
       "      <td>0.092912</td>\n",
       "      <td>0.351681</td>\n",
       "      <td>0.074001</td>\n",
       "      <td>0.362068</td>\n",
       "      <td>0.076365</td>\n",
       "      <td>0.418452</td>\n",
       "      <td>0.082414</td>\n",
       "      <td>0.593029</td>\n",
       "      <td>0.065548</td>\n",
       "      <td>blues</td>\n",
       "    </tr>\n",
       "    <tr>\n",
       "      <th>2</th>\n",
       "      <td>0.373159</td>\n",
       "      <td>0.728067</td>\n",
       "      <td>0.296753</td>\n",
       "      <td>0.141663</td>\n",
       "      <td>0.265293</td>\n",
       "      <td>0.023073</td>\n",
       "      <td>0.494051</td>\n",
       "      <td>0.059922</td>\n",
       "      <td>0.378215</td>\n",
       "      <td>0.060820</td>\n",
       "      <td>...</td>\n",
       "      <td>0.096704</td>\n",
       "      <td>0.420979</td>\n",
       "      <td>0.050639</td>\n",
       "      <td>0.400536</td>\n",
       "      <td>0.067509</td>\n",
       "      <td>0.433742</td>\n",
       "      <td>0.043841</td>\n",
       "      <td>0.546264</td>\n",
       "      <td>0.036062</td>\n",
       "      <td>blues</td>\n",
       "    </tr>\n",
       "    <tr>\n",
       "      <th>3</th>\n",
       "      <td>0.399349</td>\n",
       "      <td>0.677066</td>\n",
       "      <td>0.298024</td>\n",
       "      <td>0.075042</td>\n",
       "      <td>0.238427</td>\n",
       "      <td>0.023187</td>\n",
       "      <td>0.455246</td>\n",
       "      <td>0.066234</td>\n",
       "      <td>0.329587</td>\n",
       "      <td>0.070906</td>\n",
       "      <td>...</td>\n",
       "      <td>0.067995</td>\n",
       "      <td>0.387474</td>\n",
       "      <td>0.050617</td>\n",
       "      <td>0.380430</td>\n",
       "      <td>0.050030</td>\n",
       "      <td>0.405824</td>\n",
       "      <td>0.041898</td>\n",
       "      <td>0.562204</td>\n",
       "      <td>0.034873</td>\n",
       "      <td>blues</td>\n",
       "    </tr>\n",
       "    <tr>\n",
       "      <th>4</th>\n",
       "      <td>0.355668</td>\n",
       "      <td>0.689113</td>\n",
       "      <td>0.322308</td>\n",
       "      <td>0.052149</td>\n",
       "      <td>0.233460</td>\n",
       "      <td>0.016451</td>\n",
       "      <td>0.451651</td>\n",
       "      <td>0.047830</td>\n",
       "      <td>0.318453</td>\n",
       "      <td>0.046916</td>\n",
       "      <td>...</td>\n",
       "      <td>0.042500</td>\n",
       "      <td>0.460314</td>\n",
       "      <td>0.083860</td>\n",
       "      <td>0.388590</td>\n",
       "      <td>0.076524</td>\n",
       "      <td>0.409019</td>\n",
       "      <td>0.020763</td>\n",
       "      <td>0.517913</td>\n",
       "      <td>0.031713</td>\n",
       "      <td>blues</td>\n",
       "    </tr>\n",
       "  </tbody>\n",
       "</table>\n",
       "<p>5 rows × 58 columns</p>\n",
       "</div>"
      ],
      "text/plain": [
       "   chroma_stft_mean  chroma_stft_var  rms_mean   rms_var  \\\n",
       "0          0.355399         0.716757  0.293133  0.107955   \n",
       "1          0.367322         0.670347  0.253040  0.044447   \n",
       "2          0.373159         0.728067  0.296753  0.141663   \n",
       "3          0.399349         0.677066  0.298024  0.075042   \n",
       "4          0.355668         0.689113  0.322308  0.052149   \n",
       "\n",
       "   spectral_centroid_mean  spectral_centroid_var  spectral_bandwidth_mean  \\\n",
       "0                0.262173               0.034784                 0.459205   \n",
       "1                0.270969               0.018716                 0.470831   \n",
       "2                0.265293               0.023073                 0.494051   \n",
       "3                0.238427               0.023187                 0.455246   \n",
       "4                0.233460               0.016451                 0.451651   \n",
       "\n",
       "   spectral_bandwidth_var  rolloff_mean  rolloff_var  ...  mfcc16_var  \\\n",
       "0                0.094130      0.346153     0.083164  ...    0.056198   \n",
       "1                0.052261      0.363722     0.051694  ...    0.092912   \n",
       "2                0.059922      0.378215     0.060820  ...    0.096704   \n",
       "3                0.066234      0.329587     0.070906  ...    0.067995   \n",
       "4                0.047830      0.318453     0.046916  ...    0.042500   \n",
       "\n",
       "   mfcc17_mean  mfcc17_var  mfcc18_mean  mfcc18_var  mfcc19_mean  mfcc19_var  \\\n",
       "0     0.397172    0.066062     0.371828    0.055344     0.380831    0.026797   \n",
       "1     0.351681    0.074001     0.362068    0.076365     0.418452    0.082414   \n",
       "2     0.420979    0.050639     0.400536    0.067509     0.433742    0.043841   \n",
       "3     0.387474    0.050617     0.380430    0.050030     0.405824    0.041898   \n",
       "4     0.460314    0.083860     0.388590    0.076524     0.409019    0.020763   \n",
       "\n",
       "   mfcc20_mean  mfcc20_var  label  \n",
       "0     0.506746    0.047781  blues  \n",
       "1     0.593029    0.065548  blues  \n",
       "2     0.546264    0.036062  blues  \n",
       "3     0.562204    0.034873  blues  \n",
       "4     0.517913    0.031713  blues  \n",
       "\n",
       "[5 rows x 58 columns]"
      ]
     },
     "execution_count": 5,
     "metadata": {},
     "output_type": "execute_result"
    }
   ],
   "source": [
    "# apply min max scalar to scale values from 1-10\n",
    "minmaxscalar = preprocessing.MinMaxScaler()\n",
    "df.loc[:, df.columns != 'label'] = minmaxscalar.fit_transform(df.loc[:, df.columns != 'label'])\n",
    "\n",
    "df.head()"
   ]
  },
  {
   "cell_type": "code",
   "execution_count": 6,
   "metadata": {},
   "outputs": [
    {
     "name": "stdout",
     "output_type": "stream",
     "text": [
      "(2007, 57) (2007, 10)\n"
     ]
    }
   ],
   "source": [
    "#split data into 70:10:20 % for training, validation, and testing \n",
    "\n",
    "x,y = (df.iloc[:,df.columns != \"label\"],y)\n",
    "X_train, X_test, y_train, y_test = train_test_split(x, y,test_size=0.30)\n",
    "X_test, X_valid, y_test, y_valid = train_test_split(X_test, y_test,test_size=0.33)\n",
    "\n",
    "print(X_test.shape,y_test.shape)"
   ]
  },
  {
   "cell_type": "markdown",
   "metadata": {},
   "source": [
    "##  Baseline Model"
   ]
  },
  {
   "cell_type": "code",
   "execution_count": 7,
   "metadata": {},
   "outputs": [
    {
     "name": "stdout",
     "output_type": "stream",
     "text": [
      "Epoch 1/50\n",
      "219/219 [==============================] - 2s 4ms/step - loss: 1.7681 - accuracy: 0.3534 - val_loss: 1.4600 - val_accuracy: 0.4909\n",
      "Epoch 2/50\n",
      "219/219 [==============================] - 1s 4ms/step - loss: 1.3521 - accuracy: 0.4981 - val_loss: 1.2990 - val_accuracy: 0.5172\n",
      "Epoch 3/50\n",
      "219/219 [==============================] - 1s 4ms/step - loss: 1.2043 - accuracy: 0.5477 - val_loss: 1.1885 - val_accuracy: 0.5525\n",
      "Epoch 4/50\n",
      "219/219 [==============================] - 1s 4ms/step - loss: 1.1079 - accuracy: 0.5942 - val_loss: 1.0652 - val_accuracy: 0.5970\n",
      "Epoch 5/50\n",
      "219/219 [==============================] - 1s 4ms/step - loss: 1.0413 - accuracy: 0.6231 - val_loss: 1.0992 - val_accuracy: 0.5949\n",
      "Epoch 6/50\n",
      "219/219 [==============================] - 1s 3ms/step - loss: 0.9539 - accuracy: 0.6514 - val_loss: 0.9397 - val_accuracy: 0.6586\n",
      "Epoch 7/50\n",
      "219/219 [==============================] - 1s 3ms/step - loss: 0.8681 - accuracy: 0.6898 - val_loss: 0.9249 - val_accuracy: 0.6586\n",
      "Epoch 8/50\n",
      "219/219 [==============================] - 1s 3ms/step - loss: 0.8302 - accuracy: 0.7014 - val_loss: 1.0693 - val_accuracy: 0.6010\n",
      "Epoch 9/50\n",
      "219/219 [==============================] - 1s 3ms/step - loss: 0.7878 - accuracy: 0.7144 - val_loss: 0.8760 - val_accuracy: 0.6919\n",
      "Epoch 10/50\n",
      "219/219 [==============================] - 1s 3ms/step - loss: 0.7496 - accuracy: 0.7263 - val_loss: 0.8877 - val_accuracy: 0.6818\n",
      "Epoch 11/50\n",
      "219/219 [==============================] - 1s 3ms/step - loss: 0.7217 - accuracy: 0.7407 - val_loss: 0.7893 - val_accuracy: 0.7232\n",
      "Epoch 12/50\n",
      "219/219 [==============================] - 1s 3ms/step - loss: 0.6970 - accuracy: 0.7477 - val_loss: 0.7488 - val_accuracy: 0.7273\n",
      "Epoch 13/50\n",
      "219/219 [==============================] - 1s 3ms/step - loss: 0.6504 - accuracy: 0.7676 - val_loss: 0.7441 - val_accuracy: 0.7212\n",
      "Epoch 14/50\n",
      "219/219 [==============================] - 1s 3ms/step - loss: 0.6551 - accuracy: 0.7648 - val_loss: 0.6995 - val_accuracy: 0.7535\n",
      "Epoch 15/50\n",
      "219/219 [==============================] - 1s 3ms/step - loss: 0.6121 - accuracy: 0.7783 - val_loss: 0.7777 - val_accuracy: 0.7263\n",
      "Epoch 16/50\n",
      "219/219 [==============================] - 1s 3ms/step - loss: 0.5841 - accuracy: 0.7914 - val_loss: 0.7590 - val_accuracy: 0.7333\n",
      "Epoch 17/50\n",
      "219/219 [==============================] - 1s 3ms/step - loss: 0.5500 - accuracy: 0.8095 - val_loss: 0.7196 - val_accuracy: 0.7525\n",
      "Epoch 18/50\n",
      "219/219 [==============================] - 1s 3ms/step - loss: 0.5531 - accuracy: 0.8021 - val_loss: 0.6456 - val_accuracy: 0.7717\n",
      "Epoch 19/50\n",
      "219/219 [==============================] - 1s 4ms/step - loss: 0.5263 - accuracy: 0.8059 - val_loss: 0.6330 - val_accuracy: 0.7747\n",
      "Epoch 20/50\n",
      "219/219 [==============================] - 1s 4ms/step - loss: 0.4880 - accuracy: 0.8287 - val_loss: 0.6701 - val_accuracy: 0.7737\n",
      "Epoch 21/50\n",
      "219/219 [==============================] - 1s 4ms/step - loss: 0.4629 - accuracy: 0.8386 - val_loss: 0.6732 - val_accuracy: 0.7657\n",
      "Epoch 22/50\n",
      "219/219 [==============================] - 1s 4ms/step - loss: 0.4616 - accuracy: 0.8400 - val_loss: 0.7270 - val_accuracy: 0.7444\n",
      "Epoch 23/50\n",
      "219/219 [==============================] - 1s 4ms/step - loss: 0.4295 - accuracy: 0.8461 - val_loss: 0.7710 - val_accuracy: 0.7505\n",
      "Epoch 24/50\n",
      "219/219 [==============================] - 1s 3ms/step - loss: 0.4273 - accuracy: 0.8487 - val_loss: 0.6385 - val_accuracy: 0.7838\n",
      "Epoch 25/50\n",
      "219/219 [==============================] - 1s 3ms/step - loss: 0.4171 - accuracy: 0.8478 - val_loss: 0.6178 - val_accuracy: 0.7909\n",
      "Epoch 26/50\n",
      "219/219 [==============================] - 1s 3ms/step - loss: 0.3739 - accuracy: 0.8637 - val_loss: 0.6015 - val_accuracy: 0.7939\n",
      "Epoch 27/50\n",
      "219/219 [==============================] - 1s 3ms/step - loss: 0.3543 - accuracy: 0.8687 - val_loss: 0.6187 - val_accuracy: 0.7970\n",
      "Epoch 28/50\n",
      "219/219 [==============================] - 1s 3ms/step - loss: 0.3611 - accuracy: 0.8722 - val_loss: 0.5925 - val_accuracy: 0.8051\n",
      "Epoch 29/50\n",
      "219/219 [==============================] - 1s 3ms/step - loss: 0.3370 - accuracy: 0.8756 - val_loss: 0.7050 - val_accuracy: 0.7818\n",
      "Epoch 30/50\n",
      "219/219 [==============================] - 1s 3ms/step - loss: 0.3059 - accuracy: 0.8887 - val_loss: 0.6063 - val_accuracy: 0.8030\n",
      "Epoch 31/50\n",
      "219/219 [==============================] - 1s 3ms/step - loss: 0.2839 - accuracy: 0.8970 - val_loss: 0.5463 - val_accuracy: 0.8131\n",
      "Epoch 32/50\n",
      "219/219 [==============================] - 1s 3ms/step - loss: 0.3100 - accuracy: 0.8865 - val_loss: 0.6362 - val_accuracy: 0.7889\n",
      "Epoch 33/50\n",
      "219/219 [==============================] - 1s 3ms/step - loss: 0.2955 - accuracy: 0.8973 - val_loss: 0.6960 - val_accuracy: 0.7848\n",
      "Epoch 34/50\n",
      "219/219 [==============================] - 1s 4ms/step - loss: 0.2577 - accuracy: 0.9059 - val_loss: 0.5748 - val_accuracy: 0.8333\n",
      "Epoch 35/50\n",
      "219/219 [==============================] - 1s 3ms/step - loss: 0.2563 - accuracy: 0.9062 - val_loss: 0.5602 - val_accuracy: 0.8313\n",
      "Epoch 36/50\n",
      "219/219 [==============================] - 1s 3ms/step - loss: 0.2517 - accuracy: 0.9095 - val_loss: 0.7373 - val_accuracy: 0.7838\n",
      "Epoch 37/50\n",
      "219/219 [==============================] - 1s 3ms/step - loss: 0.2380 - accuracy: 0.9152 - val_loss: 0.6733 - val_accuracy: 0.8071\n",
      "Epoch 38/50\n",
      "219/219 [==============================] - 1s 4ms/step - loss: 0.2218 - accuracy: 0.9231 - val_loss: 0.6258 - val_accuracy: 0.8111\n",
      "Epoch 39/50\n",
      "219/219 [==============================] - 1s 3ms/step - loss: 0.1873 - accuracy: 0.9335 - val_loss: 0.5918 - val_accuracy: 0.8273\n",
      "Epoch 40/50\n",
      "219/219 [==============================] - 1s 3ms/step - loss: 0.2114 - accuracy: 0.9238 - val_loss: 0.5659 - val_accuracy: 0.8323\n",
      "Epoch 41/50\n",
      "219/219 [==============================] - 1s 3ms/step - loss: 0.1869 - accuracy: 0.9316 - val_loss: 0.6097 - val_accuracy: 0.8313\n",
      "Epoch 42/50\n",
      "219/219 [==============================] - 1s 4ms/step - loss: 0.1850 - accuracy: 0.9342 - val_loss: 0.6435 - val_accuracy: 0.8202\n",
      "Epoch 43/50\n",
      "219/219 [==============================] - 1s 5ms/step - loss: 0.2078 - accuracy: 0.9241 - val_loss: 0.6325 - val_accuracy: 0.8354\n",
      "Epoch 44/50\n",
      "219/219 [==============================] - 1s 3ms/step - loss: 0.1662 - accuracy: 0.9404 - val_loss: 0.5772 - val_accuracy: 0.8455\n",
      "Epoch 45/50\n",
      "219/219 [==============================] - 1s 3ms/step - loss: 0.1480 - accuracy: 0.9468 - val_loss: 0.5747 - val_accuracy: 0.8525\n",
      "Epoch 46/50\n",
      "219/219 [==============================] - 1s 4ms/step - loss: 0.1690 - accuracy: 0.9385 - val_loss: 0.5431 - val_accuracy: 0.8545\n",
      "Epoch 47/50\n",
      "219/219 [==============================] - 1s 4ms/step - loss: 0.1639 - accuracy: 0.9392 - val_loss: 0.6538 - val_accuracy: 0.8242\n",
      "Epoch 48/50\n",
      "219/219 [==============================] - 1s 4ms/step - loss: 0.1527 - accuracy: 0.9448 - val_loss: 0.6054 - val_accuracy: 0.8384\n",
      "Epoch 49/50\n",
      "219/219 [==============================] - 1s 4ms/step - loss: 0.1573 - accuracy: 0.9428 - val_loss: 0.6790 - val_accuracy: 0.8253\n",
      "Epoch 50/50\n",
      "219/219 [==============================] - 1s 4ms/step - loss: 0.1180 - accuracy: 0.9591 - val_loss: 0.5578 - val_accuracy: 0.8596\n"
     ]
    },
    {
     "data": {
      "text/plain": [
       "<keras.callbacks.History at 0x25e0a844b38>"
      ]
     },
     "execution_count": 7,
     "metadata": {},
     "output_type": "execute_result"
    }
   ],
   "source": [
    "import tensorflow as tf\n",
    "model = tf.keras.Sequential()\n",
    "model.add(tf.keras.layers.Dense(512, activation = tf.nn.relu))\n",
    "model.add(tf.keras.layers.Dense(256, activation = tf.nn.relu))\n",
    "model.add(tf.keras.layers.Dense(128, activation = tf.nn.relu))\n",
    "model.add(tf.keras.layers.Dense(64, activation = tf.nn.relu))\n",
    "model.add(tf.keras.layers.Dense(16, activation = tf.nn.relu))\n",
    "model.add(tf.keras.layers.Dense(10, activation = tf.nn.softmax))\n",
    "\n",
    "model.compile(optimizer = 'adam', \n",
    "              loss = 'categorical_crossentropy',\n",
    "             metrics=['accuracy'])\n",
    "\n",
    "model.fit(X_train, y_train, epochs=50, validation_data = (X_valid,y_valid))\n"
   ]
  },
  {
   "cell_type": "markdown",
   "metadata": {},
   "source": [
    "## Model Evaluation"
   ]
  },
  {
   "cell_type": "markdown",
   "metadata": {},
   "source": [
    "Evaluation of the models will consist of:\n",
    "    1. Accuracy vs Epochs on Validation and Training Sets\n",
    "    2. Loss vs Epochs on Validation and Training Sets\n",
    "    3. Accuracy \n",
    "    4. Precision\n",
    "    5. Recall \n",
    "    6. Confusion Matric "
   ]
  },
  {
   "cell_type": "code",
   "execution_count": 8,
   "metadata": {},
   "outputs": [],
   "source": [
    "hist_baseline = model.history"
   ]
  },
  {
   "cell_type": "code",
   "execution_count": 9,
   "metadata": {},
   "outputs": [],
   "source": [
    "def plot_acc_err(hist):\n",
    "    plt.figure(figsize=(20,15))\n",
    "    fig, axs = plt.subplots(2)\n",
    "    axs[0].plot(hist.history[\"accuracy\"], label=\"train accuracy\")\n",
    "    axs[0].plot(hist.history[\"val_accuracy\"], label=\"test accuracy\")    \n",
    "    axs[0].set_ylabel(\"Accuracy\")\n",
    "    axs[0].legend(loc=\"lower right\")\n",
    "    axs[0].set_title(\"Accuracy eval\")\n",
    "    print(\"\\n\")\n",
    "    # Error \n",
    "    axs[1].plot(hist.history[\"loss\"], label=\"train error\")\n",
    "    axs[1].plot(hist.history[\"val_loss\"], label=\"test error\")    \n",
    "    axs[1].set_ylabel(\"Error\")\n",
    "    axs[1].set_xlabel(\"Epoch\")\n",
    "    axs[1].legend(loc=\"upper right\")\n",
    "    axs[1].set_title(\"Error eval\")\n",
    "\n",
    "    plt.show()"
   ]
  },
  {
   "cell_type": "code",
   "execution_count": 10,
   "metadata": {},
   "outputs": [
    {
     "name": "stdout",
     "output_type": "stream",
     "text": [
      "\n",
      "\n"
     ]
    },
    {
     "data": {
      "text/plain": [
       "<Figure size 1440x1080 with 0 Axes>"
      ]
     },
     "metadata": {},
     "output_type": "display_data"
    },
    {
     "data": {
      "image/png": "[encoded data removed]",
      "text/plain": [
       "<Figure size 432x288 with 2 Axes>"
      ]
     },
     "metadata": {
      "needs_background": "light"
     },
     "output_type": "display_data"
    }
   ],
   "source": [
    "#1. Accuracy vs Epochs on Validation and Training Sets\n",
    "#2. Loss vs Epochs on Validation and Training Sets\n",
    "plot_acc_err(hist_baseline)"
   ]
  },
  {
   "cell_type": "code",
   "execution_count": 11,
   "metadata": {},
   "outputs": [
    {
     "name": "stdout",
     "output_type": "stream",
     "text": [
      "63/63 [==============================] - 0s 2ms/step - loss: 0.5017 - accuracy: 0.8724\n"
     ]
    },
    {
     "data": {
      "text/plain": [
       "[0.5017038583755493, 0.8724464178085327]"
      ]
     },
     "execution_count": 11,
     "metadata": {},
     "output_type": "execute_result"
    }
   ],
   "source": [
    "#evaluate accuracy on the test set \n",
    "model.evaluate(X_test,y_test)"
   ]
  },
  {
   "cell_type": "code",
   "execution_count": 13,
   "metadata": {},
   "outputs": [
    {
     "name": "stdout",
     "output_type": "stream",
     "text": [
      "201/201 [==============================] - 0s 992us/step\n",
      "              precision    recall  f1-score   support\n",
      "\n",
      "           0       0.94      0.79      0.86       205\n",
      "           1       0.90      0.98      0.94       202\n",
      "           2       0.84      0.82      0.83       182\n",
      "           3       0.83      0.86      0.85       183\n",
      "           4       0.92      0.82      0.87       225\n",
      "           5       0.88      0.87      0.88       204\n",
      "           6       0.88      0.94      0.90       203\n",
      "           7       0.87      0.90      0.88       189\n",
      "           8       0.87      0.93      0.90       201\n",
      "           9       0.80      0.82      0.81       213\n",
      "\n",
      "   micro avg       0.87      0.87      0.87      2007\n",
      "   macro avg       0.87      0.87      0.87      2007\n",
      "weighted avg       0.87      0.87      0.87      2007\n",
      "\n",
      "Confusion matrix, without normalization\n",
      "[[162   0   7   1   2  14   9   0   4   6]\n",
      " [  0 198   0   1   1   1   0   0   0   1]\n",
      " [  3   1 150   4   0   7   0   5   5   7]\n",
      " [  2   1   2 158   0   1   3   5   1  10]\n",
      " [  2   2   0  10 185   0   9   6   6   5]\n",
      " [  0  14   5   1   0 178   0   1   0   5]\n",
      " [  2   0   1   2   3   0 190   0   2   3]\n",
      " [  0   1   4   1   4   0   0 170   4   5]\n",
      " [  0   0   2   2   5   0   0   5 186   1]\n",
      " [  1   4   7  10   1   1   6   4   5 174]]\n"
     ]
    },
    {
     "data": {
      "image/png": "[encoded data removed]",
      "text/plain": [
       "<Figure size 432x288 with 2 Axes>"
      ]
     },
     "metadata": {
      "needs_background": "light"
     },
     "output_type": "display_data"
    }
   ],
   "source": [
    "predictions = model.predict(X_test, batch_size=10, verbose=True)\n",
    "preds = np.argmax(predictions,axis=1)\n",
    "label = np.argmax(y_test,axis=1)\n",
    "print(classification_report(label,preds))\n",
    "\n",
    "cm = confusion_matrix(y_true=label,y_pred=preds)\n",
    "label = list(unique_labels)\n",
    "plot_confusion_matrix(cm, label,title='Confusion matrix',save=\"CM_NN_Baseline\")"
   ]
  },
  {
   "cell_type": "markdown",
   "metadata": {},
   "source": [
    "## Model Finetuning "
   ]
  },
  {
   "cell_type": "markdown",
   "metadata": {},
   "source": [
    "### L1 and L2 regularization"
   ]
  },
  {
   "cell_type": "code",
   "execution_count": 14,
   "metadata": {},
   "outputs": [
    {
     "name": "stdout",
     "output_type": "stream",
     "text": [
      "Epoch 1/50\n",
      "219/219 [==============================] - 2s 4ms/step - loss: 2.1198 - accuracy: 0.3353 - val_loss: 1.7084 - val_accuracy: 0.4616\n",
      "Epoch 2/50\n",
      "219/219 [==============================] - 1s 4ms/step - loss: 1.5845 - accuracy: 0.4979 - val_loss: 1.5147 - val_accuracy: 0.5061\n",
      "Epoch 3/50\n",
      "219/219 [==============================] - 1s 4ms/step - loss: 1.4575 - accuracy: 0.5434 - val_loss: 1.5711 - val_accuracy: 0.5091\n",
      "Epoch 4/50\n",
      "219/219 [==============================] - 1s 4ms/step - loss: 1.3963 - accuracy: 0.5679 - val_loss: 1.3844 - val_accuracy: 0.5960\n",
      "Epoch 5/50\n",
      "219/219 [==============================] - 1s 4ms/step - loss: 1.3482 - accuracy: 0.5874 - val_loss: 1.3879 - val_accuracy: 0.5576\n",
      "Epoch 6/50\n",
      "219/219 [==============================] - 1s 6ms/step - loss: 1.2961 - accuracy: 0.6092 - val_loss: 1.3194 - val_accuracy: 0.6131\n",
      "Epoch 7/50\n",
      "219/219 [==============================] - 1s 5ms/step - loss: 1.2943 - accuracy: 0.6112 - val_loss: 1.2824 - val_accuracy: 0.6374\n",
      "Epoch 8/50\n",
      "219/219 [==============================] - 1s 5ms/step - loss: 1.2370 - accuracy: 0.6329 - val_loss: 1.2164 - val_accuracy: 0.6737\n",
      "Epoch 9/50\n",
      "219/219 [==============================] - 1s 4ms/step - loss: 1.2180 - accuracy: 0.6421 - val_loss: 1.3246 - val_accuracy: 0.6040\n",
      "Epoch 10/50\n",
      "219/219 [==============================] - 1s 4ms/step - loss: 1.2001 - accuracy: 0.6498 - val_loss: 1.2865 - val_accuracy: 0.6414\n",
      "Epoch 11/50\n",
      "219/219 [==============================] - 1s 4ms/step - loss: 1.1689 - accuracy: 0.6615 - val_loss: 1.2874 - val_accuracy: 0.6202\n",
      "Epoch 12/50\n",
      "219/219 [==============================] - 1s 4ms/step - loss: 1.1393 - accuracy: 0.6711 - val_loss: 1.1739 - val_accuracy: 0.6758\n",
      "Epoch 13/50\n",
      "219/219 [==============================] - 1s 4ms/step - loss: 1.1374 - accuracy: 0.6757 - val_loss: 1.2165 - val_accuracy: 0.6576\n",
      "Epoch 14/50\n",
      "219/219 [==============================] - 1s 4ms/step - loss: 1.1451 - accuracy: 0.6757 - val_loss: 1.2610 - val_accuracy: 0.6263\n",
      "Epoch 15/50\n",
      "219/219 [==============================] - 1s 4ms/step - loss: 1.1038 - accuracy: 0.6903 - val_loss: 1.1675 - val_accuracy: 0.6808\n",
      "Epoch 16/50\n",
      "219/219 [==============================] - 1s 4ms/step - loss: 1.0890 - accuracy: 0.6934 - val_loss: 1.1815 - val_accuracy: 0.6636\n",
      "Epoch 17/50\n",
      "219/219 [==============================] - 1s 4ms/step - loss: 1.0823 - accuracy: 0.6960 - val_loss: 1.1157 - val_accuracy: 0.6909\n",
      "Epoch 18/50\n",
      "219/219 [==============================] - 1s 4ms/step - loss: 1.0622 - accuracy: 0.7047 - val_loss: 1.2345 - val_accuracy: 0.6525\n",
      "Epoch 19/50\n",
      "219/219 [==============================] - 1s 4ms/step - loss: 1.0730 - accuracy: 0.6994 - val_loss: 1.0989 - val_accuracy: 0.7091\n",
      "Epoch 20/50\n",
      "219/219 [==============================] - 1s 4ms/step - loss: 1.0341 - accuracy: 0.7194 - val_loss: 1.0780 - val_accuracy: 0.6990\n",
      "Epoch 21/50\n",
      "219/219 [==============================] - 1s 4ms/step - loss: 1.0230 - accuracy: 0.7200 - val_loss: 1.1599 - val_accuracy: 0.6758\n",
      "Epoch 22/50\n",
      "219/219 [==============================] - 1s 4ms/step - loss: 1.0247 - accuracy: 0.7199 - val_loss: 1.1628 - val_accuracy: 0.6556\n",
      "Epoch 23/50\n",
      "219/219 [==============================] - 1s 4ms/step - loss: 1.0125 - accuracy: 0.7264 - val_loss: 1.1050 - val_accuracy: 0.7121\n",
      "Epoch 24/50\n",
      "219/219 [==============================] - 1s 5ms/step - loss: 0.9877 - accuracy: 0.7283 - val_loss: 1.0785 - val_accuracy: 0.7061\n",
      "Epoch 25/50\n",
      "219/219 [==============================] - 1s 4ms/step - loss: 0.9755 - accuracy: 0.7407 - val_loss: 1.0993 - val_accuracy: 0.6889\n",
      "Epoch 26/50\n",
      "219/219 [==============================] - 1s 4ms/step - loss: 0.9805 - accuracy: 0.7372 - val_loss: 1.1776 - val_accuracy: 0.6707\n",
      "Epoch 27/50\n",
      "219/219 [==============================] - 1s 4ms/step - loss: 0.9777 - accuracy: 0.7350 - val_loss: 0.9993 - val_accuracy: 0.7354\n",
      "Epoch 28/50\n",
      "219/219 [==============================] - 1s 4ms/step - loss: 0.9515 - accuracy: 0.7473 - val_loss: 1.1236 - val_accuracy: 0.6980\n",
      "Epoch 29/50\n",
      "219/219 [==============================] - 1s 4ms/step - loss: 0.9443 - accuracy: 0.7475 - val_loss: 1.0299 - val_accuracy: 0.7192\n",
      "Epoch 30/50\n",
      "219/219 [==============================] - 1s 4ms/step - loss: 0.9556 - accuracy: 0.7477 - val_loss: 1.0549 - val_accuracy: 0.7253\n",
      "Epoch 31/50\n",
      "219/219 [==============================] - 1s 4ms/step - loss: 0.9348 - accuracy: 0.7532 - val_loss: 1.0011 - val_accuracy: 0.7394\n",
      "Epoch 32/50\n",
      "219/219 [==============================] - 1s 4ms/step - loss: 0.9241 - accuracy: 0.7595 - val_loss: 1.0061 - val_accuracy: 0.7323\n",
      "Epoch 33/50\n",
      "219/219 [==============================] - 1s 4ms/step - loss: 0.9088 - accuracy: 0.7655 - val_loss: 1.0609 - val_accuracy: 0.7141\n",
      "Epoch 34/50\n",
      "219/219 [==============================] - 1s 4ms/step - loss: 0.8992 - accuracy: 0.7681 - val_loss: 1.0316 - val_accuracy: 0.7212\n",
      "Epoch 35/50\n",
      "219/219 [==============================] - 1s 5ms/step - loss: 0.8891 - accuracy: 0.7703 - val_loss: 0.9528 - val_accuracy: 0.7414\n",
      "Epoch 36/50\n",
      "219/219 [==============================] - 1s 5ms/step - loss: 0.8683 - accuracy: 0.7776 - val_loss: 0.9908 - val_accuracy: 0.7465\n",
      "Epoch 37/50\n",
      "219/219 [==============================] - 1s 7ms/step - loss: 0.8710 - accuracy: 0.7825 - val_loss: 0.9879 - val_accuracy: 0.7525\n",
      "Epoch 38/50\n",
      "219/219 [==============================] - 1s 5ms/step - loss: 0.8838 - accuracy: 0.7749 - val_loss: 0.9792 - val_accuracy: 0.7374\n",
      "Epoch 39/50\n",
      "219/219 [==============================] - 1s 4ms/step - loss: 0.8726 - accuracy: 0.7783 - val_loss: 1.0334 - val_accuracy: 0.7283\n",
      "Epoch 40/50\n",
      "219/219 [==============================] - 1s 5ms/step - loss: 0.8596 - accuracy: 0.7802 - val_loss: 0.9699 - val_accuracy: 0.7505\n",
      "Epoch 41/50\n",
      "219/219 [==============================] - 1s 5ms/step - loss: 0.8462 - accuracy: 0.7879 - val_loss: 0.9515 - val_accuracy: 0.7687\n",
      "Epoch 42/50\n",
      "219/219 [==============================] - 1s 5ms/step - loss: 0.8579 - accuracy: 0.7854 - val_loss: 0.9796 - val_accuracy: 0.7556\n",
      "Epoch 43/50\n",
      "219/219 [==============================] - 1s 5ms/step - loss: 0.8338 - accuracy: 0.7978 - val_loss: 0.9656 - val_accuracy: 0.7697\n",
      "Epoch 44/50\n",
      "219/219 [==============================] - 1s 5ms/step - loss: 0.8499 - accuracy: 0.7909 - val_loss: 0.9902 - val_accuracy: 0.7394\n",
      "Epoch 45/50\n",
      "219/219 [==============================] - 1s 4ms/step - loss: 0.8364 - accuracy: 0.7961 - val_loss: 0.9656 - val_accuracy: 0.7535\n",
      "Epoch 46/50\n",
      "219/219 [==============================] - 1s 4ms/step - loss: 0.8270 - accuracy: 0.8018 - val_loss: 0.9378 - val_accuracy: 0.7576\n",
      "Epoch 47/50\n",
      "219/219 [==============================] - 1s 4ms/step - loss: 0.8252 - accuracy: 0.7991 - val_loss: 0.9864 - val_accuracy: 0.7556\n",
      "Epoch 48/50\n",
      "219/219 [==============================] - 1s 5ms/step - loss: 0.8182 - accuracy: 0.8077 - val_loss: 0.9854 - val_accuracy: 0.7354\n",
      "Epoch 49/50\n",
      "219/219 [==============================] - 1s 5ms/step - loss: 0.8237 - accuracy: 0.8022 - val_loss: 0.9671 - val_accuracy: 0.7475\n",
      "Epoch 50/50\n",
      "219/219 [==============================] - 1s 5ms/step - loss: 0.8072 - accuracy: 0.8059 - val_loss: 0.9490 - val_accuracy: 0.7646\n"
     ]
    },
    {
     "data": {
      "text/plain": [
       "<keras.callbacks.History at 0x25e0b65b518>"
      ]
     },
     "execution_count": 14,
     "metadata": {},
     "output_type": "execute_result"
    }
   ],
   "source": [
    "model = keras.Sequential()\n",
    "\n",
    "from tensorflow.keras import regularizers\n",
    "\n",
    "model.add(keras.layers.Dense(512, activation = 'relu', kernel_regularizer=regularizers.l1_l2(l1=1e-5, l2=1e-3)))\n",
    "model.add(keras.layers.Dense(256, activation = 'relu' , kernel_regularizer=regularizers.l1_l2(l1=1e-5, l2=1e-3)))\n",
    "model.add(keras.layers.Dense(128, activation = 'relu', kernel_regularizer=regularizers.l1_l2(l1=1e-5, l2=1e-3)))\n",
    "model.add(keras.layers.Dense(64, activation = 'relu', kernel_regularizer=regularizers.l1_l2(l1=1e-5, l2=1e-3)))\n",
    "model.add(keras.layers.Dense(16, activation = 'relu', kernel_regularizer=regularizers.l1_l2(l1=1e-5, l2=1e-3)))\n",
    "model.add(keras.layers.Dense(10, activation = 'softmax', kernel_regularizer=regularizers.l1_l2(l1=1e-5, l2=1e-3)))\n",
    "\n",
    "model.compile(optimizer = 'adam', \n",
    "              loss = 'categorical_crossentropy',\n",
    "             metrics=['accuracy'])\n",
    "\n",
    "model.fit(X_train, y_train, epochs=50, validation_data = (X_valid,y_valid))"
   ]
  },
  {
   "cell_type": "code",
   "execution_count": 15,
   "metadata": {},
   "outputs": [
    {
     "name": "stdout",
     "output_type": "stream",
     "text": [
      "\n",
      "\n"
     ]
    },
    {
     "data": {
      "text/plain": [
       "<Figure size 1440x1080 with 0 Axes>"
      ]
     },
     "metadata": {},
     "output_type": "display_data"
    },
    {
     "data": {
      "image/png": "[encoded data removed]",
      "text/plain": [
       "<Figure size 432x288 with 2 Axes>"
      ]
     },
     "metadata": {
      "needs_background": "light"
     },
     "output_type": "display_data"
    }
   ],
   "source": [
    "hist_l2_l1 = model.history\n",
    "plot_acc_err(hist_baseline)"
   ]
  },
  {
   "cell_type": "code",
   "execution_count": 16,
   "metadata": {},
   "outputs": [
    {
     "name": "stdout",
     "output_type": "stream",
     "text": [
      "201/201 [==============================] - 0s 997us/step\n",
      "              precision    recall  f1-score   support\n",
      "\n",
      "           0       0.87      0.80      0.84       205\n",
      "           1       0.91      0.98      0.94       202\n",
      "           2       0.72      0.75      0.74       182\n",
      "           3       0.62      0.85      0.72       183\n",
      "           4       0.94      0.58      0.72       225\n",
      "           5       0.91      0.78      0.84       204\n",
      "           6       0.78      0.95      0.86       203\n",
      "           7       0.79      0.85      0.82       189\n",
      "           8       0.78      0.83      0.80       201\n",
      "           9       0.65      0.54      0.59       213\n",
      "\n",
      "   micro avg       0.79      0.79      0.79      2007\n",
      "   macro avg       0.80      0.79      0.79      2007\n",
      "weighted avg       0.80      0.79      0.78      2007\n",
      "\n",
      "Confusion matrix, without normalization\n",
      "[[165   0   8   4   1   7  10   0   4   6]\n",
      " [  0 197   1   0   0   2   0   0   0   2]\n",
      " [  7   0 136   4   0   2   2   1   6  24]\n",
      " [  1   2   0 156   2   0   7   2   1  12]\n",
      " [  3   1   4  18 131   0  18  18  29   3]\n",
      " [  4  13  14   2   0 160   0   2   0   9]\n",
      " [  4   0   0   4   0   0 193   0   0   2]\n",
      " [  0   1   9  12   0   0   0 161   4   2]\n",
      " [  2   0   6   5   4   1   1  14 166   2]\n",
      " [  3   3  10  48   2   4  17   7   4 115]]\n"
     ]
    },
    {
     "data": {
      "image/png": "[encoded data removed]",
      "text/plain": [
       "<Figure size 432x288 with 2 Axes>"
      ]
     },
     "metadata": {
      "needs_background": "light"
     },
     "output_type": "display_data"
    }
   ],
   "source": [
    "predictions = model.predict(X_test, batch_size=10, verbose=True)\n",
    "preds = np.argmax(predictions,axis=1)\n",
    "label = np.argmax(y_test,axis=1)\n",
    "print(classification_report(label,preds))\n",
    "cm = confusion_matrix(y_true=label,y_pred=preds)\n",
    "label = list(unique_labels)\n",
    "plot_confusion_matrix(cm, label,title='Confusion matrix',save=\"CM_NN_L1L2\")"
   ]
  },
  {
   "cell_type": "markdown",
   "metadata": {},
   "source": [
    "### Dropout Regularization and He Intialization"
   ]
  },
  {
   "cell_type": "code",
   "execution_count": 17,
   "metadata": {},
   "outputs": [
    {
     "name": "stdout",
     "output_type": "stream",
     "text": [
      "Epoch 1/60\n",
      "219/219 [==============================] - 1s 4ms/step - loss: 1.6637 - accuracy: 0.3854 - val_loss: 1.2633 - val_accuracy: 0.5343\n",
      "Epoch 2/60\n",
      "219/219 [==============================] - 1s 3ms/step - loss: 1.2376 - accuracy: 0.5404 - val_loss: 1.0493 - val_accuracy: 0.6192\n",
      "Epoch 3/60\n",
      "219/219 [==============================] - 1s 3ms/step - loss: 1.0975 - accuracy: 0.6013 - val_loss: 0.9740 - val_accuracy: 0.6576\n",
      "Epoch 4/60\n",
      "219/219 [==============================] - 1s 3ms/step - loss: 0.9935 - accuracy: 0.6402 - val_loss: 0.9127 - val_accuracy: 0.6889\n",
      "Epoch 5/60\n",
      "219/219 [==============================] - 1s 3ms/step - loss: 0.9268 - accuracy: 0.6678 - val_loss: 0.9084 - val_accuracy: 0.6848\n",
      "Epoch 6/60\n",
      "219/219 [==============================] - 1s 4ms/step - loss: 0.8617 - accuracy: 0.6940 - val_loss: 0.7561 - val_accuracy: 0.7455\n",
      "Epoch 7/60\n",
      "219/219 [==============================] - 1s 4ms/step - loss: 0.8194 - accuracy: 0.7097 - val_loss: 0.7890 - val_accuracy: 0.7192\n",
      "Epoch 8/60\n",
      "219/219 [==============================] - 1s 4ms/step - loss: 0.7681 - accuracy: 0.7294 - val_loss: 0.6912 - val_accuracy: 0.7657\n",
      "Epoch 9/60\n",
      "219/219 [==============================] - 1s 4ms/step - loss: 0.7432 - accuracy: 0.7363 - val_loss: 0.7936 - val_accuracy: 0.7081\n",
      "Epoch 10/60\n",
      "219/219 [==============================] - 1s 4ms/step - loss: 0.7099 - accuracy: 0.7453 - val_loss: 0.6839 - val_accuracy: 0.7606\n",
      "Epoch 11/60\n",
      "219/219 [==============================] - 1s 4ms/step - loss: 0.6549 - accuracy: 0.7676 - val_loss: 0.6242 - val_accuracy: 0.7869\n",
      "Epoch 12/60\n",
      "219/219 [==============================] - 1s 4ms/step - loss: 0.6222 - accuracy: 0.7778 - val_loss: 0.6113 - val_accuracy: 0.7818\n",
      "Epoch 13/60\n",
      "219/219 [==============================] - 1s 4ms/step - loss: 0.5938 - accuracy: 0.7909 - val_loss: 0.6158 - val_accuracy: 0.7838\n",
      "Epoch 14/60\n",
      "219/219 [==============================] - 1s 4ms/step - loss: 0.5601 - accuracy: 0.7969 - val_loss: 0.5497 - val_accuracy: 0.8081\n",
      "Epoch 15/60\n",
      "219/219 [==============================] - 1s 4ms/step - loss: 0.5327 - accuracy: 0.8064 - val_loss: 0.5390 - val_accuracy: 0.8141\n",
      "Epoch 16/60\n",
      "219/219 [==============================] - 1s 4ms/step - loss: 0.4995 - accuracy: 0.8227 - val_loss: 0.5372 - val_accuracy: 0.8162\n",
      "Epoch 17/60\n",
      "219/219 [==============================] - 1s 4ms/step - loss: 0.4895 - accuracy: 0.8254 - val_loss: 0.5607 - val_accuracy: 0.8030\n",
      "Epoch 18/60\n",
      "219/219 [==============================] - 1s 4ms/step - loss: 0.4602 - accuracy: 0.8333 - val_loss: 0.5371 - val_accuracy: 0.8172\n",
      "Epoch 19/60\n",
      "219/219 [==============================] - 1s 4ms/step - loss: 0.4649 - accuracy: 0.8355 - val_loss: 0.4976 - val_accuracy: 0.8293\n",
      "Epoch 20/60\n",
      "219/219 [==============================] - 1s 4ms/step - loss: 0.4262 - accuracy: 0.8524 - val_loss: 0.4999 - val_accuracy: 0.8313\n",
      "Epoch 21/60\n",
      "219/219 [==============================] - 1s 4ms/step - loss: 0.4071 - accuracy: 0.8561 - val_loss: 0.5036 - val_accuracy: 0.8202\n",
      "Epoch 22/60\n",
      "219/219 [==============================] - 1s 4ms/step - loss: 0.4011 - accuracy: 0.8607 - val_loss: 0.4822 - val_accuracy: 0.8444\n",
      "Epoch 23/60\n",
      "219/219 [==============================] - 1s 4ms/step - loss: 0.3783 - accuracy: 0.8687 - val_loss: 0.4855 - val_accuracy: 0.8455\n",
      "Epoch 24/60\n",
      "219/219 [==============================] - 1s 4ms/step - loss: 0.3616 - accuracy: 0.8690 - val_loss: 0.4564 - val_accuracy: 0.8556\n",
      "Epoch 25/60\n",
      "219/219 [==============================] - 1s 4ms/step - loss: 0.3417 - accuracy: 0.8763 - val_loss: 0.4507 - val_accuracy: 0.8596\n",
      "Epoch 26/60\n",
      "219/219 [==============================] - 1s 4ms/step - loss: 0.3425 - accuracy: 0.8810 - val_loss: 0.4361 - val_accuracy: 0.8576\n",
      "Epoch 27/60\n",
      "219/219 [==============================] - 1s 4ms/step - loss: 0.3226 - accuracy: 0.8833 - val_loss: 0.4293 - val_accuracy: 0.8596\n",
      "Epoch 28/60\n",
      "219/219 [==============================] - 1s 4ms/step - loss: 0.3176 - accuracy: 0.8910 - val_loss: 0.5036 - val_accuracy: 0.8424\n",
      "Epoch 29/60\n",
      "219/219 [==============================] - 1s 4ms/step - loss: 0.2933 - accuracy: 0.8938 - val_loss: 0.4421 - val_accuracy: 0.8535\n",
      "Epoch 30/60\n",
      "219/219 [==============================] - 1s 3ms/step - loss: 0.3001 - accuracy: 0.8955 - val_loss: 0.4327 - val_accuracy: 0.8606\n",
      "Epoch 31/60\n",
      "219/219 [==============================] - 1s 5ms/step - loss: 0.2849 - accuracy: 0.8990 - val_loss: 0.4743 - val_accuracy: 0.8586\n",
      "Epoch 32/60\n",
      "219/219 [==============================] - 1s 5ms/step - loss: 0.2751 - accuracy: 0.9028 - val_loss: 0.3950 - val_accuracy: 0.8747\n",
      "Epoch 33/60\n",
      "219/219 [==============================] - 1s 6ms/step - loss: 0.2664 - accuracy: 0.9052 - val_loss: 0.4068 - val_accuracy: 0.8808\n",
      "Epoch 34/60\n",
      "219/219 [==============================] - 1s 6ms/step - loss: 0.2824 - accuracy: 0.9010 - val_loss: 0.4470 - val_accuracy: 0.8576\n",
      "Epoch 35/60\n",
      "219/219 [==============================] - 1s 6ms/step - loss: 0.2654 - accuracy: 0.9060 - val_loss: 0.4058 - val_accuracy: 0.8758\n",
      "Epoch 36/60\n",
      "219/219 [==============================] - 1s 6ms/step - loss: 0.2392 - accuracy: 0.9156 - val_loss: 0.4143 - val_accuracy: 0.8717\n",
      "Epoch 37/60\n",
      "219/219 [==============================] - 2s 7ms/step - loss: 0.2487 - accuracy: 0.9093 - val_loss: 0.4209 - val_accuracy: 0.8646\n",
      "Epoch 38/60\n",
      "219/219 [==============================] - 1s 6ms/step - loss: 0.2416 - accuracy: 0.9152 - val_loss: 0.4197 - val_accuracy: 0.8606\n",
      "Epoch 39/60\n",
      "219/219 [==============================] - 1s 6ms/step - loss: 0.2301 - accuracy: 0.9222 - val_loss: 0.4637 - val_accuracy: 0.8697\n",
      "Epoch 40/60\n",
      "219/219 [==============================] - 1s 6ms/step - loss: 0.2223 - accuracy: 0.9211 - val_loss: 0.4347 - val_accuracy: 0.8707\n",
      "Epoch 41/60\n",
      "219/219 [==============================] - 1s 6ms/step - loss: 0.2202 - accuracy: 0.9213 - val_loss: 0.4059 - val_accuracy: 0.8889\n",
      "Epoch 42/60\n",
      "219/219 [==============================] - 1s 6ms/step - loss: 0.2163 - accuracy: 0.9232 - val_loss: 0.3749 - val_accuracy: 0.8889\n",
      "Epoch 43/60\n",
      "219/219 [==============================] - 1s 7ms/step - loss: 0.2326 - accuracy: 0.9156 - val_loss: 0.3685 - val_accuracy: 0.8828\n",
      "Epoch 44/60\n",
      "219/219 [==============================] - 1s 5ms/step - loss: 0.2149 - accuracy: 0.9264 - val_loss: 0.3922 - val_accuracy: 0.8758\n",
      "Epoch 45/60\n",
      "219/219 [==============================] - 1s 6ms/step - loss: 0.2089 - accuracy: 0.9274 - val_loss: 0.3881 - val_accuracy: 0.8768\n",
      "Epoch 46/60\n",
      "219/219 [==============================] - 1s 4ms/step - loss: 0.2006 - accuracy: 0.9286 - val_loss: 0.4099 - val_accuracy: 0.8636\n",
      "Epoch 47/60\n",
      "219/219 [==============================] - 1s 5ms/step - loss: 0.1961 - accuracy: 0.9289 - val_loss: 0.3917 - val_accuracy: 0.8818\n",
      "Epoch 48/60\n",
      "219/219 [==============================] - 1s 5ms/step - loss: 0.2060 - accuracy: 0.9271 - val_loss: 0.3700 - val_accuracy: 0.8798\n",
      "Epoch 49/60\n",
      "219/219 [==============================] - 1s 5ms/step - loss: 0.1899 - accuracy: 0.9328 - val_loss: 0.3820 - val_accuracy: 0.8889\n",
      "Epoch 50/60\n",
      "219/219 [==============================] - 1s 4ms/step - loss: 0.1847 - accuracy: 0.9364 - val_loss: 0.3690 - val_accuracy: 0.8889\n",
      "Epoch 51/60\n",
      "219/219 [==============================] - 1s 4ms/step - loss: 0.1692 - accuracy: 0.9391 - val_loss: 0.4115 - val_accuracy: 0.8717\n",
      "Epoch 52/60\n",
      "219/219 [==============================] - 1s 4ms/step - loss: 0.1879 - accuracy: 0.9362 - val_loss: 0.3978 - val_accuracy: 0.8768\n",
      "Epoch 53/60\n",
      "219/219 [==============================] - 1s 4ms/step - loss: 0.1932 - accuracy: 0.9348 - val_loss: 0.3915 - val_accuracy: 0.8848\n",
      "Epoch 54/60\n",
      "219/219 [==============================] - 1s 4ms/step - loss: 0.1807 - accuracy: 0.9354 - val_loss: 0.4382 - val_accuracy: 0.8778\n",
      "Epoch 55/60\n",
      "219/219 [==============================] - 1s 5ms/step - loss: 0.1713 - accuracy: 0.9397 - val_loss: 0.3488 - val_accuracy: 0.8949\n",
      "Epoch 56/60\n",
      "219/219 [==============================] - 1s 5ms/step - loss: 0.1780 - accuracy: 0.9371 - val_loss: 0.4254 - val_accuracy: 0.8778\n",
      "Epoch 57/60\n",
      "219/219 [==============================] - 1s 4ms/step - loss: 0.1845 - accuracy: 0.9348 - val_loss: 0.3725 - val_accuracy: 0.8939\n",
      "Epoch 58/60\n"
     ]
    },
    {
     "name": "stdout",
     "output_type": "stream",
     "text": [
      "219/219 [==============================] - 1s 4ms/step - loss: 0.1638 - accuracy: 0.9402 - val_loss: 0.4312 - val_accuracy: 0.8747\n",
      "Epoch 59/60\n",
      "219/219 [==============================] - 1s 4ms/step - loss: 0.1746 - accuracy: 0.9359 - val_loss: 0.3782 - val_accuracy: 0.8909\n",
      "Epoch 60/60\n",
      "219/219 [==============================] - 1s 4ms/step - loss: 0.1556 - accuracy: 0.9442 - val_loss: 0.4025 - val_accuracy: 0.8919\n"
     ]
    },
    {
     "data": {
      "text/plain": [
       "<keras.callbacks.History at 0x25e0fe05358>"
      ]
     },
     "execution_count": 17,
     "metadata": {},
     "output_type": "execute_result"
    }
   ],
   "source": [
    "model = keras.Sequential()\n",
    "\n",
    "model.add(keras.layers.Dense(512, activation = \"relu\",kernel_initializer=\"he_normal\"))\n",
    "\n",
    "model.add(keras.layers.Dropout(0.3))\n",
    "\n",
    "model.add(keras.layers.Dense(256, activation = \"relu\", kernel_initializer=\"he_normal\"))\n",
    "\n",
    "model.add(keras.layers.Dropout(0.1))\n",
    "\n",
    "model.add(keras.layers.Dense(128, activation = \"relu\", kernel_initializer=\"he_normal\"))\n",
    "\n",
    "model.add(keras.layers.Dropout(0.1))\n",
    "\n",
    "model.add(keras.layers.Dense(64, activation = \"relu\", kernel_initializer=\"he_normal\"))\n",
    "\n",
    "\n",
    "model.add(keras.layers.Dense(10, activation = \"softmax\"))\n",
    "\n",
    "model.compile(optimizer = 'adam', \n",
    "              loss = 'categorical_crossentropy',\n",
    "             metrics=['accuracy'])\n",
    "\n",
    "model.fit(X_train, y_train, epochs=60, validation_data = (X_valid,y_valid))"
   ]
  },
  {
   "cell_type": "code",
   "execution_count": 18,
   "metadata": {},
   "outputs": [
    {
     "name": "stdout",
     "output_type": "stream",
     "text": [
      "\n",
      "\n"
     ]
    },
    {
     "data": {
      "text/plain": [
       "<Figure size 1440x1080 with 0 Axes>"
      ]
     },
     "metadata": {},
     "output_type": "display_data"
    },
    {
     "data": {
      "image/png": "[encoded data removed]",
      "text/plain": [
       "<Figure size 432x288 with 2 Axes>"
      ]
     },
     "metadata": {
      "needs_background": "light"
     },
     "output_type": "display_data"
    }
   ],
   "source": [
    "hist_dropout = model.history\n",
    "plot_acc_err(hist_dropout)"
   ]
  },
  {
   "cell_type": "code",
   "execution_count": 21,
   "metadata": {},
   "outputs": [
    {
     "name": "stdout",
     "output_type": "stream",
     "text": [
      "201/201 [==============================] - 0s 1ms/step\n",
      "              precision    recall  f1-score   support\n",
      "\n",
      "           0       0.90      0.92      0.91       205\n",
      "           1       0.95      0.97      0.96       202\n",
      "           2       0.90      0.82      0.86       182\n",
      "           3       0.89      0.89      0.89       183\n",
      "           4       0.97      0.87      0.92       225\n",
      "           5       0.85      0.95      0.89       204\n",
      "           6       0.95      0.94      0.95       203\n",
      "           7       0.90      0.91      0.91       189\n",
      "           8       0.92      0.93      0.92       201\n",
      "           9       0.82      0.85      0.84       213\n",
      "\n",
      "   micro avg       0.90      0.90      0.90      2007\n",
      "   macro avg       0.90      0.90      0.90      2007\n",
      "weighted avg       0.91      0.90      0.90      2007\n",
      "\n",
      "Confusion matrix, without normalization\n",
      "[[188   0   0   0   0  10   2   0   1   4]\n",
      " [  0 195   0   0   0   6   0   0   0   1]\n",
      " [ 10   0 149   1   0  11   0   1   4   6]\n",
      " [  3   2   1 163   1   0   0   1   2  10]\n",
      " [  3   1   1   3 195   1   1  12   3   5]\n",
      " [  1   5   4   0   0 193   0   0   0   1]\n",
      " [  2   0   0   0   2   1 191   0   0   7]\n",
      " [  0   1   5   4   1   1   0 172   2   3]\n",
      " [  2   0   2   2   1   2   0   4 186   2]\n",
      " [  0   2   4  10   1   3   7   1   4 181]]\n"
     ]
    },
    {
     "data": {
      "image/png": "[encoded data removed]",
      "text/plain": [
       "<Figure size 432x288 with 2 Axes>"
      ]
     },
     "metadata": {
      "needs_background": "light"
     },
     "output_type": "display_data"
    }
   ],
   "source": [
    "predictions = model.predict(X_test, batch_size=10, verbose=True)\n",
    "preds = np.argmax(predictions,axis=1)\n",
    "label = np.argmax(y_test,axis=1)\n",
    "print(classification_report(label,preds))\n",
    "cm = confusion_matrix(y_true=label,y_pred=preds)\n",
    "label = list(unique_labels)\n",
    "plot_confusion_matrix(cm, label,title='Confusion matrix',save=\"CM_NN_Dropout\")"
   ]
  },
  {
   "cell_type": "code",
   "execution_count": 20,
   "metadata": {},
   "outputs": [
    {
     "name": "stdout",
     "output_type": "stream",
     "text": [
      "63/63 [==============================] - 0s 2ms/step - loss: 0.3225 - accuracy: 0.9033\n"
     ]
    },
    {
     "data": {
      "text/plain": [
       "[0.3225364089012146, 0.9033383131027222]"
      ]
     },
     "execution_count": 20,
     "metadata": {},
     "output_type": "execute_result"
    }
   ],
   "source": [
    "model.evaluate(X_test,y_test)"
   ]
  }
 ],
 "metadata": {
  "kernelspec": {
   "display_name": "Python 3",
   "language": "python",
   "name": "python3"
  },
  "language_info": {
   "codemirror_mode": {
    "name": "ipython",
    "version": 3
   },
   "file_extension": ".py",
   "mimetype": "text/x-python",
   "name": "python",
   "nbconvert_exporter": "python",
   "pygments_lexer": "ipython3",
   "version": "3.7.3"
  }
 },
 "nbformat": 4,
 "nbformat_minor": 2
}
