{
 "cells": [
  {
   "cell_type": "markdown",
   "metadata": {},
   "source": [
    "# Music Genre Classification with Logistic Regression"
   ]
  },
  {
   "cell_type": "markdown",
   "metadata": {},
   "source": [
    "We will explore the following:\n",
    "    1. Preprocessing \n",
    "    2. Baseline Model\n",
    "    3. Model Evaluation \n",
    "    4. Finetuning Model with Grid Search "
   ]
  },
  {
   "cell_type": "code",
   "execution_count": 2,
   "metadata": {},
   "outputs": [],
   "source": [
    "# evaluate logistic regression on the music genre classification set with label encoding\n",
    "import numpy as np\n",
    "import pandas as pd\n",
    "from numpy import mean\n",
    "from numpy import std\n",
    "from pandas import read_csv\n",
    "import matplotlib.pyplot as plt\n",
    "from sklearn.model_selection import train_test_split\n",
    "from sklearn.linear_model import LogisticRegression\n",
    "from sklearn.preprocessing import LabelEncoder\n",
    "from sklearn.preprocessing import OneHotEncoder\n",
    "from sklearn.metrics import accuracy_score\n",
    "from sklearn.preprocessing import MinMaxScaler\n",
    "from sklearn.metrics import classification_report, confusion_matrix\n",
    "from util import plot_confusion_matrix\n"
   ]
  },
  {
   "cell_type": "code",
   "execution_count": 3,
   "metadata": {},
   "outputs": [],
   "source": [
    "# define the location of the dataset\n",
    "path_3_sec = ('../Data/features_3_sec.csv')\n",
    "path_30_sec = ('../Data/features_3_sec.csv')\n",
    "#creating dataframe\n",
    "df = pd.read_csv(path_3_sec)\n",
    "\n",
    "# separate into input and output columns\n",
    "X = df.iloc[:, df.columns != \"label\"].drop(['filename','length'], axis=1)\n",
    "\n",
    "#perform scaling\n",
    "scaler = MinMaxScaler()\n",
    "X = pd.DataFrame(scaler.fit_transform(X), columns=X.columns)\n",
    "y = np.ravel(df.iloc[:, df.columns == \"label\"])"
   ]
  },
  {
   "cell_type": "code",
   "execution_count": 4,
   "metadata": {},
   "outputs": [],
   "source": [
    "#setup for fitting, do label encoding (transform non-numerical labels into numerical labels)\n",
    "label_encoder = LabelEncoder()\n",
    "label_encoder.fit(y)\n",
    "y = label_encoder.transform(y)"
   ]
  },
  {
   "cell_type": "code",
   "execution_count": 5,
   "metadata": {},
   "outputs": [],
   "source": [
    "# split the dataset into train and test sets\n",
    "X_train, X_test, y_train, y_test = train_test_split(X, y, test_size=0.33, random_state=1)\n",
    "\n",
    "# further split the data set to create valid set\n",
    "X_test, X_valid, y_test, y_valid = train_test_split(X_test, y_test,test_size=0.50, random_state=1)\n"
   ]
  },
  {
   "cell_type": "markdown",
   "metadata": {},
   "source": [
    "## Baseline Model"
   ]
  },
  {
   "cell_type": "code",
   "execution_count": 6,
   "metadata": {},
   "outputs": [],
   "source": [
    "# define the model\n",
    "model = LogisticRegression(multi_class='multinomial',solver='lbfgs', max_iter=1000)\n",
    "model.fit(X_train, np.ravel(y_train,order='C'))\n",
    "y_pred = model.predict(X_test)"
   ]
  },
  {
   "cell_type": "markdown",
   "metadata": {},
   "source": [
    "## Model Evaluation "
   ]
  },
  {
   "cell_type": "code",
   "execution_count": 7,
   "metadata": {},
   "outputs": [
    {
     "name": "stdout",
     "output_type": "stream",
     "text": [
      "Accuracy on train set: 69.88\n",
      "Accuracy on test set: 69.36\n",
      "Accuracy on valid set: 67.50\n"
     ]
    }
   ],
   "source": [
    "yhat = model.predict(X_test)\n",
    "\n",
    "# predict on validation set\n",
    "val_pred = model.predict(X_valid)\n",
    "\n",
    "# evaluate the model\n",
    "acc_train = model.score(X_train, y_train)\n",
    "acc_val = accuracy_score(y_valid, val_pred)\n",
    "acc_test = accuracy_score(y_test, yhat)\n",
    "print('Accuracy on train set: %.2f' % (acc_train*100))\n",
    "print('Accuracy on test set: %.2f' % (acc_test*100))\n",
    "print('Accuracy on valid set: %.2f' % (acc_val*100))\n",
    "\n"
   ]
  },
  {
   "cell_type": "code",
   "execution_count": 8,
   "metadata": {},
   "outputs": [
    {
     "name": "stdout",
     "output_type": "stream",
     "text": [
      "Error on train set: 6.70\n",
      "Error on valid set: 7.24\n",
      "Error on test set: 7.24\n"
     ]
    }
   ],
   "source": [
    "from sklearn.metrics import mean_squared_error\n",
    "\n",
    "val_pred,train_pred,test_pred = model.predict(X_valid),model.predict(X_train),model.predict(X_test)\n",
    "\n",
    "train_err = mean_squared_error(y_train, train_pred)\n",
    "val_err = mean_squared_error(y_valid, val_pred)\n",
    "test_err = mean_squared_error(y_test,test_pred)\n",
    "\n",
    "print('Error on train set: %.2f' % (train_err))\n",
    "print('Error on valid set: %.2f' % (val_err))\n",
    "print('Error on test set: %.2f' % (test_err))\n"
   ]
  },
  {
   "cell_type": "code",
   "execution_count": 10,
   "metadata": {},
   "outputs": [
    {
     "name": "stdout",
     "output_type": "stream",
     "text": [
      "              precision    recall  f1-score   support\n",
      "\n",
      "           0       0.62      0.66      0.64       171\n",
      "           1       0.87      0.88      0.87       175\n",
      "           2       0.73      0.61      0.67       189\n",
      "           3       0.60      0.61      0.61       163\n",
      "           4       0.76      0.60      0.67       161\n",
      "           5       0.69      0.77      0.73       164\n",
      "           6       0.78      0.87      0.82       174\n",
      "           7       0.76      0.79      0.77       158\n",
      "           8       0.63      0.68      0.65       160\n",
      "           9       0.42      0.39      0.40       133\n",
      "\n",
      "   micro avg       0.69      0.69      0.69      1648\n",
      "   macro avg       0.69      0.69      0.68      1648\n",
      "weighted avg       0.69      0.69      0.69      1648\n",
      "\n",
      "Confusion matrix, without normalization\n",
      "[[113   2   4   5   1   9  21   0   9   7]\n",
      " [  0 154   2   0   0  12   0   0   2   5]\n",
      " [ 16   2 116   9   1  13   2   8   5  17]\n",
      " [  5   3   2 100  11   3   3   8   8  20]\n",
      " [  4   0   4  13  97   0   7   8  27   1]\n",
      " [  9  11   6   3   0 126   0   4   1   4]\n",
      " [  2   0   0   4   3   1 152   0   4   8]\n",
      " [  0   2   7  12   2   2   0 125   2   6]\n",
      " [  9   1   9   4  10   5   2   8 108   4]\n",
      " [ 23   3   8  16   2  11   8   4   6  52]]\n"
     ]
    },
    {
     "data": {
      "image/png": "[encoded data removed]",
      "text/plain": [
       "<Figure size 432x288 with 2 Axes>"
      ]
     },
     "metadata": {
      "needs_background": "light"
     },
     "output_type": "display_data"
    }
   ],
   "source": [
    "from sklearn.metrics import confusion_matrix\n",
    "import itertools\n",
    "import matplotlib.pyplot\n",
    "from sklearn.metrics import classification_report, confusion_matrix\n",
    "\n",
    "print(classification_report(y_test, yhat))\n",
    "cm = confusion_matrix(y_test,y_pred)\n",
    "test_label = df[\"label\"].unique()\n",
    "label = list(test_label)\n",
    "plot_confusion_matrix(cm, label,title='Confusion matrix',save = \"CV_LG_Baseline\")"
   ]
  },
  {
   "cell_type": "markdown",
   "metadata": {},
   "source": [
    "## Finetuning Model with Grid Search "
   ]
  },
  {
   "cell_type": "code",
   "execution_count": 67,
   "metadata": {},
   "outputs": [
    {
     "data": {
      "text/plain": [
       "GridSearchCV(cv=10, error_score='raise-deprecating',\n",
       "       estimator=LogisticRegression(C=15, class_weight=None, dual=False, fit_intercept=True,\n",
       "          intercept_scaling=1, max_iter=3000, multi_class='multinomial',\n",
       "          n_jobs=None, penalty='l2', random_state=None, solver='lbfgs',\n",
       "          tol=0.0001, verbose=0, warm_start=False),\n",
       "       fit_params=None, iid='warn', n_jobs=None,\n",
       "       param_grid={'C': [1, 2, 3, 4, 5, 6, 7, 8, 9, 10, 11], 'max_iter': [1000, 2000, 10000], 'solver': ['lbfgs']},\n",
       "       pre_dispatch='2*n_jobs', refit=True, return_train_score='warn',\n",
       "       scoring=None, verbose=0)"
      ]
     },
     "execution_count": 67,
     "metadata": {},
     "output_type": "execute_result"
    }
   ],
   "source": [
    "# Grid search cross validation\n",
    "from sklearn.model_selection import GridSearchCV\n",
    "from sklearn.linear_model import LogisticRegression\n",
    "grid={\"C\": list(range(1,12)), \"max_iter\": [1000, 2000, 10000],\"solver\":['lbfgs']}# l1 lasso l2 ridge\n",
    "\n",
    "logreg_cv=GridSearchCV(model,grid,cv=10)\n",
    "logreg_cv.fit(X_train,y_train)\n"
   ]
  },
  {
   "cell_type": "code",
   "execution_count": 68,
   "metadata": {},
   "outputs": [
    {
     "name": "stdout",
     "output_type": "stream",
     "text": [
      "tuned hyperparameters :(best parameters)  {'C': 11, 'max_iter': 1000, 'solver': 'lbfgs'}\n",
      "accuracy : 0.712684894666069\n"
     ]
    }
   ],
   "source": [
    "print(\"tuned hyperparameters :(best parameters) \",logreg_cv.best_params_)\n",
    "print(\"accuracy :\",logreg_cv.best_score_)"
   ]
  },
  {
   "cell_type": "code",
   "execution_count": 11,
   "metadata": {},
   "outputs": [
    {
     "data": {
      "text/plain": [
       "LogisticRegression(C=15, class_weight='balanced', dual=False,\n",
       "          fit_intercept=True, intercept_scaling=1, max_iter=1000,\n",
       "          multi_class='multinomial', n_jobs=None, penalty='l2',\n",
       "          random_state=None, solver='lbfgs', tol=0.0001, verbose=0,\n",
       "          warm_start=False)"
      ]
     },
     "execution_count": 11,
     "metadata": {},
     "output_type": "execute_result"
    }
   ],
   "source": [
    "model = LogisticRegression(multi_class='multinomial',solver='lbfgs', max_iter=1000, C = 15, class_weight = \"balanced\")\n",
    "model.fit(X_train, np.ravel(y_train,order='C'))"
   ]
  },
  {
   "cell_type": "code",
   "execution_count": 12,
   "metadata": {},
   "outputs": [
    {
     "name": "stdout",
     "output_type": "stream",
     "text": [
      "Accuracy on train set: 73.81\n",
      "Accuracy on test set: 73.48\n",
      "Accuracy on valid set: 72.29\n"
     ]
    }
   ],
   "source": [
    "yhat = model.predict(X_test)\n",
    "\n",
    "# predict on validation set\n",
    "val_pred = model.predict(X_valid)\n",
    "\n",
    "# evaluate the model\n",
    "acc_train = model.score(X_train, y_train)\n",
    "acc_val = accuracy_score(y_valid, val_pred)\n",
    "acc_test = accuracy_score(y_test, yhat)\n",
    "print('Accuracy on train set: %.2f' % (acc_train*100))\n",
    "print('Accuracy on test set: %.2f' % (acc_test*100))\n",
    "print('Accuracy on valid set: %.2f' % (acc_val*100))\n"
   ]
  },
  {
   "cell_type": "code",
   "execution_count": 13,
   "metadata": {},
   "outputs": [
    {
     "name": "stdout",
     "output_type": "stream",
     "text": [
      "Error on train set: 5.76\n",
      "Error on valid set: 6.10\n",
      "Error on test set: 6.00\n"
     ]
    }
   ],
   "source": [
    "from sklearn.metrics import mean_squared_error\n",
    "\n",
    "val_pred,train_pred,test_pred = model.predict(X_valid),model.predict(X_train),model.predict(X_test)\n",
    "\n",
    "train_err = mean_squared_error(y_train, train_pred)\n",
    "val_err = mean_squared_error(y_valid, val_pred)\n",
    "test_err = mean_squared_error(y_test,test_pred)\n",
    "\n",
    "print('Error on train set: %.2f' % (train_err))\n",
    "print('Error on valid set: %.2f' % (val_err))\n",
    "print('Error on test set: %.2f' % (test_err))"
   ]
  },
  {
   "cell_type": "code",
   "execution_count": 14,
   "metadata": {},
   "outputs": [
    {
     "name": "stdout",
     "output_type": "stream",
     "text": [
      "              precision    recall  f1-score   support\n",
      "\n",
      "           0       0.70      0.73      0.72       171\n",
      "           1       0.90      0.92      0.91       175\n",
      "           2       0.71      0.66      0.68       189\n",
      "           3       0.70      0.71      0.71       163\n",
      "           4       0.79      0.66      0.72       161\n",
      "           5       0.75      0.82      0.78       164\n",
      "           6       0.82      0.84      0.83       174\n",
      "           7       0.81      0.79      0.80       158\n",
      "           8       0.66      0.69      0.67       160\n",
      "           9       0.46      0.46      0.46       133\n",
      "\n",
      "   micro avg       0.73      0.73      0.73      1648\n",
      "   macro avg       0.73      0.73      0.73      1648\n",
      "weighted avg       0.74      0.73      0.73      1648\n",
      "\n",
      "Confusion matrix, without normalization\n",
      "[[113   2   4   5   1   9  21   0   9   7]\n",
      " [  0 154   2   0   0  12   0   0   2   5]\n",
      " [ 16   2 116   9   1  13   2   8   5  17]\n",
      " [  5   3   2 100  11   3   3   8   8  20]\n",
      " [  4   0   4  13  97   0   7   8  27   1]\n",
      " [  9  11   6   3   0 126   0   4   1   4]\n",
      " [  2   0   0   4   3   1 152   0   4   8]\n",
      " [  0   2   7  12   2   2   0 125   2   6]\n",
      " [  9   1   9   4  10   5   2   8 108   4]\n",
      " [ 23   3   8  16   2  11   8   4   6  52]]\n"
     ]
    },
    {
     "data": {
      "image/png": "[encoded data removed]",
      "text/plain": [
       "<Figure size 432x288 with 2 Axes>"
      ]
     },
     "metadata": {
      "needs_background": "light"
     },
     "output_type": "display_data"
    }
   ],
   "source": [
    "print(classification_report(y_test, yhat))\n",
    "\n",
    "\n",
    "cm = confusion_matrix(y_test,y_pred)\n",
    "label = list(test_label)\n",
    "plot_confusion_matrix(cm, label,title='Confusion matrix',save = \"CV_LG_Final\")"
   ]
  }
 ],
 "metadata": {
  "kernelspec": {
   "display_name": "Python 3",
   "language": "python",
   "name": "python3"
  },
  "language_info": {
   "codemirror_mode": {
    "name": "ipython",
    "version": 3
   },
   "file_extension": ".py",
   "mimetype": "text/x-python",
   "name": "python",
   "nbconvert_exporter": "python",
   "pygments_lexer": "ipython3",
   "version": "3.7.3"
  }
 },
 "nbformat": 4,
 "nbformat_minor": 2
}
