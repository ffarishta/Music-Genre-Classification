{
 "cells": [
  {
   "cell_type": "markdown",
   "metadata": {},
   "source": [
    "# Music Genre Classification with k-Nearest Neighbor"
   ]
  },
  {
   "cell_type": "code",
   "execution_count": 1,
   "metadata": {},
   "outputs": [],
   "source": [
    "import pandas as pd\n",
    "import numpy as np\n",
    "import matplotlib.pyplot as plt\n",
    "\n",
    "from sklearn.preprocessing import MinMaxScaler\n",
    "from sklearn.preprocessing import OneHotEncoder\n",
    "from sklearn.metrics import accuracy_score\n",
    "from sklearn.model_selection import train_test_split\n",
    "from sklearn.neighbors import KNeighborsClassifier\n",
    "from sklearn import preprocessing\n",
    "from sklearn.preprocessing import StandardScaler\n",
    "from sklearn.model_selection import cross_val_score\n",
    "from sklearn.model_selection import GridSearchCV\n",
    "from sklearn.metrics import confusion_matrix\n",
    "\n",
    "from util import plot_confusion_matrix\n",
    "\n",
    "%matplotlib inline"
   ]
  },
  {
   "cell_type": "code",
   "execution_count": 2,
   "metadata": {},
   "outputs": [
    {
     "data": {
      "text/html": [
       "<div>\n",
       "<style scoped>\n",
       "    .dataframe tbody tr th:only-of-type {\n",
       "        vertical-align: middle;\n",
       "    }\n",
       "\n",
       "    .dataframe tbody tr th {\n",
       "        vertical-align: top;\n",
       "    }\n",
       "\n",
       "    .dataframe thead th {\n",
       "        text-align: right;\n",
       "    }\n",
       "</style>\n",
       "<table border=\"1\" class=\"dataframe\">\n",
       "  <thead>\n",
       "    <tr style=\"text-align: right;\">\n",
       "      <th></th>\n",
       "      <th>chroma_stft_mean</th>\n",
       "      <th>chroma_stft_var</th>\n",
       "      <th>rms_mean</th>\n",
       "      <th>rms_var</th>\n",
       "      <th>spectral_centroid_mean</th>\n",
       "      <th>spectral_centroid_var</th>\n",
       "      <th>spectral_bandwidth_mean</th>\n",
       "      <th>spectral_bandwidth_var</th>\n",
       "      <th>rolloff_mean</th>\n",
       "      <th>rolloff_var</th>\n",
       "      <th>...</th>\n",
       "      <th>mfcc16_var</th>\n",
       "      <th>mfcc17_mean</th>\n",
       "      <th>mfcc17_var</th>\n",
       "      <th>mfcc18_mean</th>\n",
       "      <th>mfcc18_var</th>\n",
       "      <th>mfcc19_mean</th>\n",
       "      <th>mfcc19_var</th>\n",
       "      <th>mfcc20_mean</th>\n",
       "      <th>mfcc20_var</th>\n",
       "      <th>label</th>\n",
       "    </tr>\n",
       "  </thead>\n",
       "  <tbody>\n",
       "    <tr>\n",
       "      <th>0</th>\n",
       "      <td>0.335406</td>\n",
       "      <td>0.091048</td>\n",
       "      <td>0.130405</td>\n",
       "      <td>0.003521</td>\n",
       "      <td>1773.065032</td>\n",
       "      <td>167541.630869</td>\n",
       "      <td>1972.744388</td>\n",
       "      <td>117335.771563</td>\n",
       "      <td>3714.560359</td>\n",
       "      <td>1.080790e+06</td>\n",
       "      <td>...</td>\n",
       "      <td>39.687145</td>\n",
       "      <td>-3.241280</td>\n",
       "      <td>36.488243</td>\n",
       "      <td>0.722209</td>\n",
       "      <td>38.099152</td>\n",
       "      <td>-5.050335</td>\n",
       "      <td>33.618073</td>\n",
       "      <td>-0.243027</td>\n",
       "      <td>43.771767</td>\n",
       "      <td>blues</td>\n",
       "    </tr>\n",
       "    <tr>\n",
       "      <th>1</th>\n",
       "      <td>0.343065</td>\n",
       "      <td>0.086147</td>\n",
       "      <td>0.112699</td>\n",
       "      <td>0.001450</td>\n",
       "      <td>1816.693777</td>\n",
       "      <td>90525.690866</td>\n",
       "      <td>2010.051501</td>\n",
       "      <td>65671.875673</td>\n",
       "      <td>3869.682242</td>\n",
       "      <td>6.722448e+05</td>\n",
       "      <td>...</td>\n",
       "      <td>64.748276</td>\n",
       "      <td>-6.055294</td>\n",
       "      <td>40.677654</td>\n",
       "      <td>0.159015</td>\n",
       "      <td>51.264091</td>\n",
       "      <td>-2.837699</td>\n",
       "      <td>97.030830</td>\n",
       "      <td>5.784063</td>\n",
       "      <td>59.943081</td>\n",
       "      <td>blues</td>\n",
       "    </tr>\n",
       "    <tr>\n",
       "      <th>2</th>\n",
       "      <td>0.346815</td>\n",
       "      <td>0.092243</td>\n",
       "      <td>0.132003</td>\n",
       "      <td>0.004620</td>\n",
       "      <td>1788.539719</td>\n",
       "      <td>111407.437613</td>\n",
       "      <td>2084.565132</td>\n",
       "      <td>75124.921716</td>\n",
       "      <td>3997.639160</td>\n",
       "      <td>7.907127e+05</td>\n",
       "      <td>...</td>\n",
       "      <td>67.336563</td>\n",
       "      <td>-1.768610</td>\n",
       "      <td>28.348579</td>\n",
       "      <td>2.378768</td>\n",
       "      <td>45.717648</td>\n",
       "      <td>-1.938424</td>\n",
       "      <td>53.050835</td>\n",
       "      <td>2.517375</td>\n",
       "      <td>33.105122</td>\n",
       "      <td>blues</td>\n",
       "    </tr>\n",
       "    <tr>\n",
       "      <th>3</th>\n",
       "      <td>0.363639</td>\n",
       "      <td>0.086856</td>\n",
       "      <td>0.132565</td>\n",
       "      <td>0.002448</td>\n",
       "      <td>1655.289045</td>\n",
       "      <td>111952.284517</td>\n",
       "      <td>1960.039988</td>\n",
       "      <td>82913.639269</td>\n",
       "      <td>3568.300218</td>\n",
       "      <td>9.216524e+05</td>\n",
       "      <td>...</td>\n",
       "      <td>47.739452</td>\n",
       "      <td>-3.841155</td>\n",
       "      <td>28.337118</td>\n",
       "      <td>1.218588</td>\n",
       "      <td>34.770935</td>\n",
       "      <td>-3.580352</td>\n",
       "      <td>50.836224</td>\n",
       "      <td>3.630866</td>\n",
       "      <td>32.023678</td>\n",
       "      <td>blues</td>\n",
       "    </tr>\n",
       "    <tr>\n",
       "      <th>4</th>\n",
       "      <td>0.335579</td>\n",
       "      <td>0.088129</td>\n",
       "      <td>0.143289</td>\n",
       "      <td>0.001701</td>\n",
       "      <td>1630.656199</td>\n",
       "      <td>79667.267654</td>\n",
       "      <td>1948.503884</td>\n",
       "      <td>60204.020268</td>\n",
       "      <td>3469.992864</td>\n",
       "      <td>6.102111e+05</td>\n",
       "      <td>...</td>\n",
       "      <td>30.336359</td>\n",
       "      <td>0.664582</td>\n",
       "      <td>45.880913</td>\n",
       "      <td>1.689446</td>\n",
       "      <td>51.363583</td>\n",
       "      <td>-3.392489</td>\n",
       "      <td>26.738789</td>\n",
       "      <td>0.536961</td>\n",
       "      <td>29.146694</td>\n",
       "      <td>blues</td>\n",
       "    </tr>\n",
       "  </tbody>\n",
       "</table>\n",
       "<p>5 rows × 58 columns</p>\n",
       "</div>"
      ],
      "text/plain": [
       "   chroma_stft_mean  chroma_stft_var  rms_mean   rms_var  \\\n",
       "0          0.335406         0.091048  0.130405  0.003521   \n",
       "1          0.343065         0.086147  0.112699  0.001450   \n",
       "2          0.346815         0.092243  0.132003  0.004620   \n",
       "3          0.363639         0.086856  0.132565  0.002448   \n",
       "4          0.335579         0.088129  0.143289  0.001701   \n",
       "\n",
       "   spectral_centroid_mean  spectral_centroid_var  spectral_bandwidth_mean  \\\n",
       "0             1773.065032          167541.630869              1972.744388   \n",
       "1             1816.693777           90525.690866              2010.051501   \n",
       "2             1788.539719          111407.437613              2084.565132   \n",
       "3             1655.289045          111952.284517              1960.039988   \n",
       "4             1630.656199           79667.267654              1948.503884   \n",
       "\n",
       "   spectral_bandwidth_var  rolloff_mean   rolloff_var  ...  mfcc16_var  \\\n",
       "0           117335.771563   3714.560359  1.080790e+06  ...   39.687145   \n",
       "1            65671.875673   3869.682242  6.722448e+05  ...   64.748276   \n",
       "2            75124.921716   3997.639160  7.907127e+05  ...   67.336563   \n",
       "3            82913.639269   3568.300218  9.216524e+05  ...   47.739452   \n",
       "4            60204.020268   3469.992864  6.102111e+05  ...   30.336359   \n",
       "\n",
       "   mfcc17_mean  mfcc17_var  mfcc18_mean  mfcc18_var  mfcc19_mean  mfcc19_var  \\\n",
       "0    -3.241280   36.488243     0.722209   38.099152    -5.050335   33.618073   \n",
       "1    -6.055294   40.677654     0.159015   51.264091    -2.837699   97.030830   \n",
       "2    -1.768610   28.348579     2.378768   45.717648    -1.938424   53.050835   \n",
       "3    -3.841155   28.337118     1.218588   34.770935    -3.580352   50.836224   \n",
       "4     0.664582   45.880913     1.689446   51.363583    -3.392489   26.738789   \n",
       "\n",
       "   mfcc20_mean  mfcc20_var  label  \n",
       "0    -0.243027   43.771767  blues  \n",
       "1     5.784063   59.943081  blues  \n",
       "2     2.517375   33.105122  blues  \n",
       "3     3.630866   32.023678  blues  \n",
       "4     0.536961   29.146694  blues  \n",
       "\n",
       "[5 rows x 58 columns]"
      ]
     },
     "execution_count": 2,
     "metadata": {},
     "output_type": "execute_result"
    }
   ],
   "source": [
    "# load the 3-second variation of the dataset and create a pandas dataframe\n",
    "path_3_sec = ('../Data/features_3_sec.csv')\n",
    "path_30_sec = ('../Data/features_3_sec.csv')\n",
    "df = pd.read_csv(path_3_sec)\n",
    "df = df.drop(['filename','length'], axis=1)\n",
    "\n",
    "df.head()"
   ]
  },
  {
   "cell_type": "code",
   "execution_count": 3,
   "metadata": {},
   "outputs": [
    {
     "data": {
      "text/plain": [
       "array(['blues', 'classical', 'country', 'disco', 'hiphop', 'jazz',\n",
       "       'metal', 'pop', 'reggae', 'rock'], dtype=object)"
      ]
     },
     "execution_count": 3,
     "metadata": {},
     "output_type": "execute_result"
    }
   ],
   "source": [
    "#Before Applying one hot encoding, store the original labels\n",
    "y_original = df[\"label\"]\n",
    "unique_labels = y_original.unique()\n",
    "unique_labels"
   ]
  },
  {
   "cell_type": "code",
   "execution_count": 4,
   "metadata": {},
   "outputs": [
    {
     "data": {
      "text/html": [
       "<div>\n",
       "<style scoped>\n",
       "    .dataframe tbody tr th:only-of-type {\n",
       "        vertical-align: middle;\n",
       "    }\n",
       "\n",
       "    .dataframe tbody tr th {\n",
       "        vertical-align: top;\n",
       "    }\n",
       "\n",
       "    .dataframe thead th {\n",
       "        text-align: right;\n",
       "    }\n",
       "</style>\n",
       "<table border=\"1\" class=\"dataframe\">\n",
       "  <thead>\n",
       "    <tr style=\"text-align: right;\">\n",
       "      <th></th>\n",
       "      <th>chroma_stft_mean</th>\n",
       "      <th>chroma_stft_var</th>\n",
       "      <th>rms_mean</th>\n",
       "      <th>rms_var</th>\n",
       "      <th>spectral_centroid_mean</th>\n",
       "      <th>spectral_centroid_var</th>\n",
       "      <th>spectral_bandwidth_mean</th>\n",
       "      <th>spectral_bandwidth_var</th>\n",
       "      <th>rolloff_mean</th>\n",
       "      <th>rolloff_var</th>\n",
       "      <th>...</th>\n",
       "      <th>mfcc16_var</th>\n",
       "      <th>mfcc17_mean</th>\n",
       "      <th>mfcc17_var</th>\n",
       "      <th>mfcc18_mean</th>\n",
       "      <th>mfcc18_var</th>\n",
       "      <th>mfcc19_mean</th>\n",
       "      <th>mfcc19_var</th>\n",
       "      <th>mfcc20_mean</th>\n",
       "      <th>mfcc20_var</th>\n",
       "      <th>label</th>\n",
       "    </tr>\n",
       "  </thead>\n",
       "  <tbody>\n",
       "    <tr>\n",
       "      <th>0</th>\n",
       "      <td>0.355399</td>\n",
       "      <td>0.716757</td>\n",
       "      <td>0.293133</td>\n",
       "      <td>0.107955</td>\n",
       "      <td>0.262173</td>\n",
       "      <td>0.034784</td>\n",
       "      <td>0.459205</td>\n",
       "      <td>0.094130</td>\n",
       "      <td>0.346153</td>\n",
       "      <td>0.083164</td>\n",
       "      <td>...</td>\n",
       "      <td>0.056198</td>\n",
       "      <td>0.397172</td>\n",
       "      <td>0.066062</td>\n",
       "      <td>0.371828</td>\n",
       "      <td>0.055344</td>\n",
       "      <td>0.380831</td>\n",
       "      <td>0.026797</td>\n",
       "      <td>0.506746</td>\n",
       "      <td>0.047781</td>\n",
       "      <td>blues</td>\n",
       "    </tr>\n",
       "    <tr>\n",
       "      <th>1</th>\n",
       "      <td>0.367322</td>\n",
       "      <td>0.670347</td>\n",
       "      <td>0.253040</td>\n",
       "      <td>0.044447</td>\n",
       "      <td>0.270969</td>\n",
       "      <td>0.018716</td>\n",
       "      <td>0.470831</td>\n",
       "      <td>0.052261</td>\n",
       "      <td>0.363722</td>\n",
       "      <td>0.051694</td>\n",
       "      <td>...</td>\n",
       "      <td>0.092912</td>\n",
       "      <td>0.351681</td>\n",
       "      <td>0.074001</td>\n",
       "      <td>0.362068</td>\n",
       "      <td>0.076365</td>\n",
       "      <td>0.418452</td>\n",
       "      <td>0.082414</td>\n",
       "      <td>0.593029</td>\n",
       "      <td>0.065548</td>\n",
       "      <td>blues</td>\n",
       "    </tr>\n",
       "    <tr>\n",
       "      <th>2</th>\n",
       "      <td>0.373159</td>\n",
       "      <td>0.728067</td>\n",
       "      <td>0.296753</td>\n",
       "      <td>0.141663</td>\n",
       "      <td>0.265293</td>\n",
       "      <td>0.023073</td>\n",
       "      <td>0.494051</td>\n",
       "      <td>0.059922</td>\n",
       "      <td>0.378215</td>\n",
       "      <td>0.060820</td>\n",
       "      <td>...</td>\n",
       "      <td>0.096704</td>\n",
       "      <td>0.420979</td>\n",
       "      <td>0.050639</td>\n",
       "      <td>0.400536</td>\n",
       "      <td>0.067509</td>\n",
       "      <td>0.433742</td>\n",
       "      <td>0.043841</td>\n",
       "      <td>0.546264</td>\n",
       "      <td>0.036062</td>\n",
       "      <td>blues</td>\n",
       "    </tr>\n",
       "    <tr>\n",
       "      <th>3</th>\n",
       "      <td>0.399349</td>\n",
       "      <td>0.677066</td>\n",
       "      <td>0.298024</td>\n",
       "      <td>0.075042</td>\n",
       "      <td>0.238427</td>\n",
       "      <td>0.023187</td>\n",
       "      <td>0.455246</td>\n",
       "      <td>0.066234</td>\n",
       "      <td>0.329587</td>\n",
       "      <td>0.070906</td>\n",
       "      <td>...</td>\n",
       "      <td>0.067995</td>\n",
       "      <td>0.387474</td>\n",
       "      <td>0.050617</td>\n",
       "      <td>0.380430</td>\n",
       "      <td>0.050030</td>\n",
       "      <td>0.405824</td>\n",
       "      <td>0.041898</td>\n",
       "      <td>0.562204</td>\n",
       "      <td>0.034873</td>\n",
       "      <td>blues</td>\n",
       "    </tr>\n",
       "    <tr>\n",
       "      <th>4</th>\n",
       "      <td>0.355668</td>\n",
       "      <td>0.689113</td>\n",
       "      <td>0.322308</td>\n",
       "      <td>0.052149</td>\n",
       "      <td>0.233460</td>\n",
       "      <td>0.016451</td>\n",
       "      <td>0.451651</td>\n",
       "      <td>0.047830</td>\n",
       "      <td>0.318453</td>\n",
       "      <td>0.046916</td>\n",
       "      <td>...</td>\n",
       "      <td>0.042500</td>\n",
       "      <td>0.460314</td>\n",
       "      <td>0.083860</td>\n",
       "      <td>0.388590</td>\n",
       "      <td>0.076524</td>\n",
       "      <td>0.409019</td>\n",
       "      <td>0.020763</td>\n",
       "      <td>0.517913</td>\n",
       "      <td>0.031713</td>\n",
       "      <td>blues</td>\n",
       "    </tr>\n",
       "  </tbody>\n",
       "</table>\n",
       "<p>5 rows × 58 columns</p>\n",
       "</div>"
      ],
      "text/plain": [
       "   chroma_stft_mean  chroma_stft_var  rms_mean   rms_var  \\\n",
       "0          0.355399         0.716757  0.293133  0.107955   \n",
       "1          0.367322         0.670347  0.253040  0.044447   \n",
       "2          0.373159         0.728067  0.296753  0.141663   \n",
       "3          0.399349         0.677066  0.298024  0.075042   \n",
       "4          0.355668         0.689113  0.322308  0.052149   \n",
       "\n",
       "   spectral_centroid_mean  spectral_centroid_var  spectral_bandwidth_mean  \\\n",
       "0                0.262173               0.034784                 0.459205   \n",
       "1                0.270969               0.018716                 0.470831   \n",
       "2                0.265293               0.023073                 0.494051   \n",
       "3                0.238427               0.023187                 0.455246   \n",
       "4                0.233460               0.016451                 0.451651   \n",
       "\n",
       "   spectral_bandwidth_var  rolloff_mean  rolloff_var  ...  mfcc16_var  \\\n",
       "0                0.094130      0.346153     0.083164  ...    0.056198   \n",
       "1                0.052261      0.363722     0.051694  ...    0.092912   \n",
       "2                0.059922      0.378215     0.060820  ...    0.096704   \n",
       "3                0.066234      0.329587     0.070906  ...    0.067995   \n",
       "4                0.047830      0.318453     0.046916  ...    0.042500   \n",
       "\n",
       "   mfcc17_mean  mfcc17_var  mfcc18_mean  mfcc18_var  mfcc19_mean  mfcc19_var  \\\n",
       "0     0.397172    0.066062     0.371828    0.055344     0.380831    0.026797   \n",
       "1     0.351681    0.074001     0.362068    0.076365     0.418452    0.082414   \n",
       "2     0.420979    0.050639     0.400536    0.067509     0.433742    0.043841   \n",
       "3     0.387474    0.050617     0.380430    0.050030     0.405824    0.041898   \n",
       "4     0.460314    0.083860     0.388590    0.076524     0.409019    0.020763   \n",
       "\n",
       "   mfcc20_mean  mfcc20_var  label  \n",
       "0     0.506746    0.047781  blues  \n",
       "1     0.593029    0.065548  blues  \n",
       "2     0.546264    0.036062  blues  \n",
       "3     0.562204    0.034873  blues  \n",
       "4     0.517913    0.031713  blues  \n",
       "\n",
       "[5 rows x 58 columns]"
      ]
     },
     "execution_count": 4,
     "metadata": {},
     "output_type": "execute_result"
    }
   ],
   "source": [
    "enc = OneHotEncoder(sparse=False)\n",
    "y = enc.fit_transform(df[[\"label\"]])\n",
    "minmaxscalar = preprocessing.MinMaxScaler()\n",
    "df.loc[:, df.columns != 'label'] = minmaxscalar.fit_transform(df.loc[:, df.columns != 'label'])\n",
    "\n",
    "df.head()"
   ]
  },
  {
   "cell_type": "code",
   "execution_count": 5,
   "metadata": {},
   "outputs": [
    {
     "name": "stdout",
     "output_type": "stream",
     "text": [
      "(2007, 57) (2007, 10)\n"
     ]
    }
   ],
   "source": [
    "x,y = (df.iloc[:,df.columns != \"label\"],y)\n",
    "X_train, X_test, y_train, y_test = train_test_split(x, y,test_size=0.30)\n",
    "X_test, X_valid, y_test, y_valid = train_test_split(X_test, y_test,test_size=0.33)\n",
    "\n",
    "print(X_test.shape,y_test.shape)"
   ]
  },
  {
   "cell_type": "code",
   "execution_count": 6,
   "metadata": {},
   "outputs": [
    {
     "data": {
      "text/plain": [
       "KNeighborsClassifier(algorithm='auto', leaf_size=30, metric='minkowski',\n",
       "           metric_params=None, n_jobs=None, n_neighbors=11, p=2,\n",
       "           weights='uniform')"
      ]
     },
     "execution_count": 6,
     "metadata": {},
     "output_type": "execute_result"
    }
   ],
   "source": [
    "#Create KNN Classifier (baseline)\n",
    "knn = KNeighborsClassifier(n_neighbors=11)\n",
    "\n",
    "#Train the model using the training sets\n",
    "#knn.fit(nca.transform(X_train), y_train)\n",
    "knn.fit(X_train, y_train)\n",
    "#Predict the response for the 3 datasets\n"
   ]
  },
  {
   "cell_type": "markdown",
   "metadata": {},
   "source": [
    "## Baseline Model and Evaluation "
   ]
  },
  {
   "cell_type": "code",
   "execution_count": 7,
   "metadata": {},
   "outputs": [
    {
     "name": "stdout",
     "output_type": "stream",
     "text": [
      "Accuracy on train set: 81.85\n",
      "Accuracy on test set: 75.78\n",
      "Accuracy on valid set: 77.37\n"
     ]
    }
   ],
   "source": [
    "yhat = knn.predict(X_test)\n",
    "\n",
    "# predict on validation set\n",
    "val_pred = knn.predict(X_valid)\n",
    "\n",
    "# evaluate the model\n",
    "acc_train = knn.score(X_train, y_train)\n",
    "acc_val = accuracy_score(y_valid, val_pred)\n",
    "acc_test = accuracy_score(y_test, yhat)\n",
    "print('Accuracy on train set: %.2f' % (acc_train*100))\n",
    "print('Accuracy on test set: %.2f' % (acc_test*100))\n",
    "print('Accuracy on valid set: %.2f' % (acc_val*100))"
   ]
  },
  {
   "cell_type": "code",
   "execution_count": 8,
   "metadata": {},
   "outputs": [
    {
     "name": "stdout",
     "output_type": "stream",
     "text": [
      "Error on train set: 0.02\n",
      "Error on valid set: 0.03\n",
      "Error on test set: 0.03\n"
     ]
    }
   ],
   "source": [
    "from sklearn.metrics import mean_squared_error\n",
    "\n",
    "val_pred,train_pred,test_pred = knn.predict(X_valid),knn.predict(X_train),knn.predict(X_test)\n",
    "\n",
    "train_err = mean_squared_error(y_train, train_pred)\n",
    "val_err = mean_squared_error(y_valid, val_pred)\n",
    "test_err = mean_squared_error(y_test,test_pred)\n",
    "\n",
    "\n",
    "print('Error on train set: %.2f' % (train_err))\n",
    "print('Error on valid set: %.2f' % (val_err))\n",
    "print('Error on test set: %.2f' % (test_err))"
   ]
  },
  {
   "cell_type": "code",
   "execution_count": 9,
   "metadata": {},
   "outputs": [],
   "source": [
    "acc = []\n",
    "\n",
    "# Calculating acc for K values between 1 and 57\n",
    "for k in range(1,20):\n",
    "    #Create KNN Classifier\n",
    "    knn = KNeighborsClassifier(n_neighbors=k)\n",
    "    #Train the model using the training sets\n",
    "    knn.fit(X_train, y_train)\n",
    "    #Predict the response for test dataset\n",
    "    y_pred = knn.predict(X_test)\n",
    "    acc.append(accuracy_score(y_test, y_pred))"
   ]
  },
  {
   "cell_type": "code",
   "execution_count": 10,
   "metadata": {},
   "outputs": [
    {
     "data": {
      "image/png": "[encoded data removed]",
      "text/plain": [
       "<Figure size 864x432 with 1 Axes>"
      ]
     },
     "metadata": {
      "needs_background": "light"
     },
     "output_type": "display_data"
    }
   ],
   "source": [
    "plt.figure(figsize=(12, 6))\n",
    "plt.plot(range(1, 20), acc, color='red', linestyle='dashed', marker='o',\n",
    "         markerfacecolor='blue', markersize=10)\n",
    "plt.title('Accuracy Rate K Value')\n",
    "plt.xlabel('K Value')\n",
    "plt.ylabel('Accuracy')\n",
    "plt.savefig(\"../plots/KNN_Accuracy\")"
   ]
  },
  {
   "cell_type": "code",
   "execution_count": 11,
   "metadata": {},
   "outputs": [],
   "source": [
    "error = []\n",
    "\n",
    "# Calculating error for K values between 1 and 40\n",
    "for i in range(1, 20):\n",
    "    knn = KNeighborsClassifier(n_neighbors=i)\n",
    "    knn.fit(X_train, y_train)\n",
    "    pred_i = knn.predict(X_test)\n",
    "    error.append(np.mean(pred_i != y_test))"
   ]
  },
  {
   "cell_type": "code",
   "execution_count": 12,
   "metadata": {},
   "outputs": [
    {
     "data": {
      "image/png": "[encoded data removed]",
      "text/plain": [
       "<Figure size 864x432 with 1 Axes>"
      ]
     },
     "metadata": {
      "needs_background": "light"
     },
     "output_type": "display_data"
    }
   ],
   "source": [
    "plt.figure(figsize=(12, 6))\n",
    "plt.plot(range(1, 20), error, color='red', linestyle='dashed', marker='o',\n",
    "         markerfacecolor='blue', markersize=10)\n",
    "plt.title('Error Rate K Value')\n",
    "plt.xlabel('K Value')\n",
    "plt.ylabel('Mean Error')\n",
    "plt.savefig(\"../plots/KNN_Error\")"
   ]
  },
  {
   "cell_type": "code",
   "execution_count": 13,
   "metadata": {},
   "outputs": [
    {
     "name": "stdout",
     "output_type": "stream",
     "text": [
      "Confusion matrix, without normalization\n",
      "[[175   1   3   1   0   6   0   0   4   0]\n",
      " [  7 183   2   0   0   2   0   0   0   0]\n",
      " [ 38   1 134   2   0   3   0   0   7   3]\n",
      " [ 41   3   1 151   3   2   0   0   2   1]\n",
      " [ 32   0   2   1 143   0   4   8   3   0]\n",
      " [ 30  17   5   2   0 152   0   0   0   0]\n",
      " [ 20   0   0   0   2   0 168   0   0   4]\n",
      " [ 29   2   1   4   2   0   0 146   3   1]\n",
      " [ 40   0   1   2   3   0   0   2 160   0]\n",
      " [ 69   0   4  12   0   6   3   2   3 143]]\n"
     ]
    },
    {
     "data": {
      "image/png": "[encoded data removed]",
      "text/plain": [
       "<Figure size 432x288 with 2 Axes>"
      ]
     },
     "metadata": {
      "needs_background": "light"
     },
     "output_type": "display_data"
    }
   ],
   "source": [
    "preds = np.argmax(yhat,axis=1)\n",
    "label = np.argmax(y_test,axis=1)\n",
    "cm = confusion_matrix(label,preds)\n",
    "test_label = df[\"label\"].unique()\n",
    "label = list(test_label)\n",
    "plot_confusion_matrix(cm, label,title='Confusion matrix', save = \"CV_KNN_Baseline\")"
   ]
  },
  {
   "cell_type": "markdown",
   "metadata": {},
   "source": [
    "##  Finetuning Model with Grid Search \n"
   ]
  },
  {
   "cell_type": "code",
   "execution_count": 14,
   "metadata": {},
   "outputs": [
    {
     "name": "stdout",
     "output_type": "stream",
     "text": [
      "Fitting 3 folds for each of 32 candidates, totalling 96 fits\n"
     ]
    },
    {
     "name": "stderr",
     "output_type": "stream",
     "text": [
      "[Parallel(n_jobs=-1)]: Using backend LokyBackend with 4 concurrent workers.\n",
      "[Parallel(n_jobs=-1)]: Done  42 tasks      | elapsed:  1.8min\n",
      "[Parallel(n_jobs=-1)]: Done  96 out of  96 | elapsed:  4.1min finished\n"
     ]
    }
   ],
   "source": [
    "from sklearn.model_selection import GridSearchCV\n",
    "grid_params = {\n",
    "    'n_neighbors':list(range(2,10)),\n",
    "    'weights' :['uniform','distance'],\n",
    "    'metric' :['euclidean','manhattan']\n",
    "}\n",
    "gs = GridSearchCV(KNeighborsClassifier(),grid_params,verbose =1, cv =3,n_jobs =-1)\n",
    "gs_results = gs.fit(X_train,y_train)"
   ]
  },
  {
   "cell_type": "code",
   "execution_count": 15,
   "metadata": {},
   "outputs": [
    {
     "name": "stdout",
     "output_type": "stream",
     "text": [
      "0.9131989131989132\n",
      "KNeighborsClassifier(algorithm='auto', leaf_size=30, metric='manhattan',\n",
      "           metric_params=None, n_jobs=None, n_neighbors=2, p=2,\n",
      "           weights='distance')\n",
      "{'metric': 'manhattan', 'n_neighbors': 2, 'weights': 'distance'}\n"
     ]
    }
   ],
   "source": [
    "print(gs_results.best_score_)\n",
    "print(gs_results.best_estimator_)\n",
    "print(gs_results.best_params_)"
   ]
  },
  {
   "cell_type": "markdown",
   "metadata": {},
   "source": [
    "## Final Model"
   ]
  },
  {
   "cell_type": "code",
   "execution_count": 16,
   "metadata": {},
   "outputs": [
    {
     "data": {
      "text/plain": [
       "KNeighborsClassifier(algorithm='auto', leaf_size=30, metric='manhattan',\n",
       "           metric_params=None, n_jobs=None, n_neighbors=2, p=2,\n",
       "           weights='distance')"
      ]
     },
     "execution_count": 16,
     "metadata": {},
     "output_type": "execute_result"
    }
   ],
   "source": [
    "knn = KNeighborsClassifier(n_neighbors=2,weights = 'distance',\n",
    "                          metric='manhattan')\n",
    "\n",
    "knn.fit(X_train, y_train)\n",
    "\n"
   ]
  },
  {
   "cell_type": "code",
   "execution_count": 17,
   "metadata": {},
   "outputs": [
    {
     "name": "stdout",
     "output_type": "stream",
     "text": [
      "valid score:  0.9484848484848485\n",
      "train score:  0.9985699985699986\n",
      "test score:  0.9372197309417041\n"
     ]
    }
   ],
   "source": [
    "acc_knn_valid = knn.score(X_valid, y_valid)\n",
    "acc_knn_train = knn.score(X_train, y_train)\n",
    "acc_knn_test = knn.score(X_test, y_test)\n",
    "\n",
    "\n",
    "print('valid score: ',acc_knn_valid)\n",
    "print('train score: ',acc_knn_train)\n",
    "print('test score: ',acc_knn_test)"
   ]
  },
  {
   "cell_type": "code",
   "execution_count": 18,
   "metadata": {},
   "outputs": [
    {
     "name": "stdout",
     "output_type": "stream",
     "text": [
      "Confusion matrix, without normalization\n",
      "[[177   1   3   2   0   4   0   0   1   2]\n",
      " [  1 184   2   0   0   6   0   1   0   0]\n",
      " [  2   0 168   2   2   6   0   0   6   2]\n",
      " [  0   0   2 195   1   1   0   1   1   3]\n",
      " [  0   0   1   0 185   0   0   2   3   2]\n",
      " [  1   7   3   0   0 193   0   1   1   0]\n",
      " [  1   0   0   0   1   0 190   0   0   2]\n",
      " [  0   2   2   1   3   0   0 179   0   1]\n",
      " [  0   0   2   2   1   2   0   1 197   3]\n",
      " [  3   0   3   9   0   3   5   1   5 213]]\n"
     ]
    },
    {
     "data": {
      "image/png": "[encoded data removed]",
      "text/plain": [
       "<Figure size 432x288 with 2 Axes>"
      ]
     },
     "metadata": {
      "needs_background": "light"
     },
     "output_type": "display_data"
    }
   ],
   "source": [
    "yhat = knn.predict(X_test)\n",
    "preds = np.argmax(yhat,axis=1)\n",
    "label = np.argmax(y_test,axis=1)\n",
    "cm = confusion_matrix(label,preds)\n",
    "test_label = df[\"label\"].unique()\n",
    "label = list(test_label)\n",
    "plot_confusion_matrix(cm, label,title='Confusion matrix')"
   ]
  }
 ],
 "metadata": {
  "kernelspec": {
   "display_name": "Python 3",
   "language": "python",
   "name": "python3"
  },
  "language_info": {
   "codemirror_mode": {
    "name": "ipython",
    "version": 3
   },
   "file_extension": ".py",
   "mimetype": "text/x-python",
   "name": "python",
   "nbconvert_exporter": "python",
   "pygments_lexer": "ipython3",
   "version": "3.7.3"
  }
 },
 "nbformat": 4,
 "nbformat_minor": 2
}
